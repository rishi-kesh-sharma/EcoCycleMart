{
 "cells": [
  {
   "cell_type": "markdown",
   "id": "0faab4e5",
   "metadata": {},
   "source": [
    "# Step 0: Load Packages and Libraries"
   ]
  },
  {
   "cell_type": "code",
   "execution_count": 39,
   "id": "ec40a842",
   "metadata": {},
   "outputs": [],
   "source": [
    "import pandas as pd\n",
    "import numpy as np\n",
    "import matplotlib.pyplot as plt\n",
    "import seaborn as sns\n",
    "\n",
    "from sklearn.metrics.pairwise import cosine_similarity\n",
    "from sklearn.feature_extraction.text import TfidfVectorizer\n",
    "\n",
    "import os\n",
    "from scipy.sparse import coo_matrix"
   ]
  },
  {
   "cell_type": "markdown",
   "id": "2a6b3b0f",
   "metadata": {},
   "source": [
    "# Step 1: Data Loading and Preprocessing"
   ]
  },
  {
   "cell_type": "code",
   "execution_count": 41,
   "id": "ab91064a",
   "metadata": {},
   "outputs": [
    {
     "data": {
      "text/plain": [
       "Index(['Uniq Id', 'Crawl Timestamp', 'Dataset Origin', 'Product Id',\n",
       "       'Product Barcode', 'Product Company Type Source',\n",
       "       'Product Brand Source', 'Product Brand Normalised Source',\n",
       "       'Product Name Source', 'Match Rank', 'Match Score', 'Match Type',\n",
       "       'Retailer', 'Product Category', 'Product Brand', 'Product Name',\n",
       "       'Product Price', 'Sku', 'Upc', 'Product Url', 'Market',\n",
       "       'Product Description', 'Product Currency',\n",
       "       'Product Available Inventory', 'Product Image Url',\n",
       "       'Product Model Number', 'Product Tags', 'Product Contents',\n",
       "       'Product Rating', 'Product Reviews Count', 'Bsr', 'Joining Key'],\n",
       "      dtype='object')"
      ]
     },
     "execution_count": 41,
     "metadata": {},
     "output_type": "execute_result"
    }
   ],
   "source": [
    "# Read your dataset (replace 'marketing_sample_for_walmart_com-walmart_com_product_review__20200701_20201231__5k_data.tsv' with your dataset path)\n",
    "train_data = pd.read_csv('marketing_sample_for_walmart_com-walmart_com_product_review__20200701_20201231__5k_data.tsv', sep='\\t')\n",
    "train_data.columns"
   ]
  },
  {
   "cell_type": "code",
   "execution_count": 43,
   "id": "42b87218",
   "metadata": {},
   "outputs": [
    {
     "data": {
      "text/html": [
       "<div>\n",
       "<style scoped>\n",
       "    .dataframe tbody tr th:only-of-type {\n",
       "        vertical-align: middle;\n",
       "    }\n",
       "\n",
       "    .dataframe tbody tr th {\n",
       "        vertical-align: top;\n",
       "    }\n",
       "\n",
       "    .dataframe thead th {\n",
       "        text-align: right;\n",
       "    }\n",
       "</style>\n",
       "<table border=\"1\" class=\"dataframe\">\n",
       "  <thead>\n",
       "    <tr style=\"text-align: right;\">\n",
       "      <th></th>\n",
       "      <th>Uniq Id</th>\n",
       "      <th>Product Id</th>\n",
       "      <th>Product Rating</th>\n",
       "      <th>Product Reviews Count</th>\n",
       "      <th>Product Category</th>\n",
       "      <th>Product Brand</th>\n",
       "      <th>Product Name</th>\n",
       "      <th>Product Image Url</th>\n",
       "      <th>Product Description</th>\n",
       "      <th>Product Tags</th>\n",
       "      <th>Product Available Inventory</th>\n",
       "    </tr>\n",
       "  </thead>\n",
       "  <tbody>\n",
       "    <tr>\n",
       "      <th>0</th>\n",
       "      <td>1705736792d82aa2f2d3caf1c07c53f4</td>\n",
       "      <td>2e17bf4acecdece67fc00f07ad62c910</td>\n",
       "      <td>NaN</td>\n",
       "      <td>NaN</td>\n",
       "      <td>Premium Beauty &gt; Premium Makeup &gt; Premium Nail...</td>\n",
       "      <td>OPI</td>\n",
       "      <td>OPI Infinite Shine, Nail Lacquer Nail Polish, ...</td>\n",
       "      <td>https://i5.walmartimages.com/asr/0e1f4c51-c1a4...</td>\n",
       "      <td>NaN</td>\n",
       "      <td>OPI Infinite Shine, Nail Lacquer Nail Polish, ...</td>\n",
       "      <td>111111111</td>\n",
       "    </tr>\n",
       "    <tr>\n",
       "      <th>1</th>\n",
       "      <td>95a9fe6f4810fcfc7ff244fd06784f11</td>\n",
       "      <td>076e5854a62dd283c253d6bae415af1f</td>\n",
       "      <td>NaN</td>\n",
       "      <td>NaN</td>\n",
       "      <td>Beauty &gt; Hair Care &gt; Hair Color &gt; Auburn Hair ...</td>\n",
       "      <td>Nice'n Easy</td>\n",
       "      <td>Nice n Easy Permanent Color, 111 Natural Mediu...</td>\n",
       "      <td>https://i5.walmartimages.com/asr/9c8e42e4-13a5...</td>\n",
       "      <td>Pack of 3 Pack of 3 for the UPC: 381519000201 ...</td>\n",
       "      <td>Nice 'n Easy Permanent Color, 111 Natural Medi...</td>\n",
       "      <td>111111111</td>\n",
       "    </tr>\n",
       "    <tr>\n",
       "      <th>2</th>\n",
       "      <td>8d4d0330178d3ed181b15a4102b287f2</td>\n",
       "      <td>8a4fe5d9c7a6ed26cc44d785a454b124</td>\n",
       "      <td>4.5</td>\n",
       "      <td>29221.0</td>\n",
       "      <td>Beauty &gt; Hair Care &gt; Hair Color &gt; Permanent Ha...</td>\n",
       "      <td>Clairol</td>\n",
       "      <td>Clairol Nice N Easy Permanent Color 7/106A Nat...</td>\n",
       "      <td>https://i5.walmartimages.com/asr/e3a601c2-6a2b...</td>\n",
       "      <td>This Clairol Nice N Easy Permanent Color gives...</td>\n",
       "      <td>Clairol Nice 'N Easy Permanent Color 7/106A Na...</td>\n",
       "      <td>111111111</td>\n",
       "    </tr>\n",
       "  </tbody>\n",
       "</table>\n",
       "</div>"
      ],
      "text/plain": [
       "                            Uniq Id                        Product Id  \\\n",
       "0  1705736792d82aa2f2d3caf1c07c53f4  2e17bf4acecdece67fc00f07ad62c910   \n",
       "1  95a9fe6f4810fcfc7ff244fd06784f11  076e5854a62dd283c253d6bae415af1f   \n",
       "2  8d4d0330178d3ed181b15a4102b287f2  8a4fe5d9c7a6ed26cc44d785a454b124   \n",
       "\n",
       "   Product Rating  Product Reviews Count  \\\n",
       "0             NaN                    NaN   \n",
       "1             NaN                    NaN   \n",
       "2             4.5                29221.0   \n",
       "\n",
       "                                    Product Category Product Brand  \\\n",
       "0  Premium Beauty > Premium Makeup > Premium Nail...           OPI   \n",
       "1  Beauty > Hair Care > Hair Color > Auburn Hair ...   Nice'n Easy   \n",
       "2  Beauty > Hair Care > Hair Color > Permanent Ha...       Clairol   \n",
       "\n",
       "                                        Product Name  \\\n",
       "0  OPI Infinite Shine, Nail Lacquer Nail Polish, ...   \n",
       "1  Nice n Easy Permanent Color, 111 Natural Mediu...   \n",
       "2  Clairol Nice N Easy Permanent Color 7/106A Nat...   \n",
       "\n",
       "                                   Product Image Url  \\\n",
       "0  https://i5.walmartimages.com/asr/0e1f4c51-c1a4...   \n",
       "1  https://i5.walmartimages.com/asr/9c8e42e4-13a5...   \n",
       "2  https://i5.walmartimages.com/asr/e3a601c2-6a2b...   \n",
       "\n",
       "                                 Product Description  \\\n",
       "0                                                NaN   \n",
       "1  Pack of 3 Pack of 3 for the UPC: 381519000201 ...   \n",
       "2  This Clairol Nice N Easy Permanent Color gives...   \n",
       "\n",
       "                                        Product Tags  \\\n",
       "0  OPI Infinite Shine, Nail Lacquer Nail Polish, ...   \n",
       "1  Nice 'n Easy Permanent Color, 111 Natural Medi...   \n",
       "2  Clairol Nice 'N Easy Permanent Color 7/106A Na...   \n",
       "\n",
       "   Product Available Inventory  \n",
       "0                    111111111  \n",
       "1                    111111111  \n",
       "2                    111111111  "
      ]
     },
     "execution_count": 43,
     "metadata": {},
     "output_type": "execute_result"
    }
   ],
   "source": [
    "train_data = train_data[['Uniq Id','Product Id', 'Product Rating', 'Product Reviews Count', 'Product Category', 'Product Brand', 'Product Name', 'Product Image Url', 'Product Description', 'Product Tags','Product Available Inventory']]\n",
    "train_data.head(3)"
   ]
  },
  {
   "cell_type": "markdown",
   "id": "f75a34bb",
   "metadata": {},
   "source": [
    "# Basic Operations"
   ]
  },
  {
   "cell_type": "code",
   "execution_count": 18,
   "id": "88d91adf",
   "metadata": {},
   "outputs": [
    {
     "data": {
      "text/plain": [
       "0       OPI Infinite Shine, Nail Lacquer Nail Polish, ...\n",
       "1       Nice 'n Easy Permanent Color, 111 Natural Medi...\n",
       "2       Clairol Nice 'N Easy Permanent Color 7/106A Na...\n",
       "3       Kokie Professional Matte Lipstick, Hot Berry, ...\n",
       "4       Gillette TRAC II Plus Razor Blade Refills, Fit...\n",
       "                              ...                        \n",
       "4995    Garden Mint Room Spray (Double Strength), 4 ou...\n",
       "4996    Garnier Nutrisse Nourishing Hair Color Creme (...\n",
       "4997    Nail File Electric Drill, 6 in 1 Professional ...\n",
       "4998    Creed Love In Black Hair And Body Wash 6.8oz/2...\n",
       "4999                    Foundation, Wal-mart, Walmart.com\n",
       "Name: Product Tags, Length: 5000, dtype: object"
      ]
     },
     "execution_count": 18,
     "metadata": {},
     "output_type": "execute_result"
    }
   ],
   "source": [
    "train_data['Product Tags']"
   ]
  },
  {
   "cell_type": "code",
   "execution_count": 20,
   "id": "e377ddbb",
   "metadata": {},
   "outputs": [
    {
     "data": {
      "text/plain": [
       "(5000, 32)"
      ]
     },
     "execution_count": 20,
     "metadata": {},
     "output_type": "execute_result"
    }
   ],
   "source": [
    "train_data.shape"
   ]
  },
  {
   "cell_type": "code",
   "execution_count": 22,
   "id": "9abc0a9c",
   "metadata": {},
   "outputs": [
    {
     "data": {
      "text/plain": [
       "Uniq Id                               0\n",
       "Crawl Timestamp                       0\n",
       "Dataset Origin                     5000\n",
       "Product Id                            0\n",
       "Product Barcode                    5000\n",
       "Product Company Type Source           0\n",
       "Product Brand Source               4861\n",
       "Product Brand Normalised Source    4861\n",
       "Product Name Source                4861\n",
       "Match Rank                         5000\n",
       "Match Score                        5000\n",
       "Match Type                         5000\n",
       "Retailer                              0\n",
       "Product Category                     10\n",
       "Product Brand                        13\n",
       "Product Name                          0\n",
       "Product Price                        42\n",
       "Sku                                5000\n",
       "Upc                                5000\n",
       "Product Url                           0\n",
       "Market                                0\n",
       "Product Description                1127\n",
       "Product Currency                      0\n",
       "Product Available Inventory           0\n",
       "Product Image Url                     0\n",
       "Product Model Number               5000\n",
       "Product Tags                          0\n",
       "Product Contents                   5000\n",
       "Product Rating                     2806\n",
       "Product Reviews Count              1654\n",
       "Bsr                                5000\n",
       "Joining Key                           0\n",
       "dtype: int64"
      ]
     },
     "execution_count": 22,
     "metadata": {},
     "output_type": "execute_result"
    }
   ],
   "source": [
    "train_data.isnull().sum()"
   ]
  },
  {
   "cell_type": "code",
   "execution_count": 47,
   "id": "40da2a64",
   "metadata": {},
   "outputs": [],
   "source": [
    "# Fill missing values in 'Product Rating' with a default value (e.g., 0)\n",
    "train_data.fillna({'Product Rating': 0}, inplace=True)\n",
    "train_data['Product Rating'] = train_data['Product Rating'].fillna(0)\n",
    "# Fill missing values in 'Product Reviews Count' with a default value (e.g., 0)\n",
    "train_data.fillna({'Product Reviews Count':0},inplace=True)\n",
    "train_data['Product Reviews Count']=train_data['Product Reviews Count'].fillna(0)\n",
    "# Fill missing values in 'Product Category' with a default value (e.g., 'Unknown')\n",
    "train_data.fillna({'Product Category':''},inplace=True)\n",
    "train_data['Product Category']=train_data['Product Category'].fillna('')\n",
    "# Fill missing values in 'Product Brand' with a default value (e.g., 'Unknown')\n",
    "train_data.fillna({'Product Brand':''},inplace=True)\n",
    "train_data['Product Brand']=train_data['Product Brand'].fillna('')\n",
    "# Fill missing values in 'Product Description' with an empty string\n",
    "train_data.fillna({'Product Description':''},inplace=True)\n",
    "train_data['Product Description']=train_data['Product Description'].fillna('')"
   ]
  },
  {
   "cell_type": "code",
   "execution_count": 49,
   "id": "c6ae1d91",
   "metadata": {},
   "outputs": [
    {
     "data": {
      "text/plain": [
       "Uniq Id                        0\n",
       "Product Id                     0\n",
       "Product Rating                 0\n",
       "Product Reviews Count          0\n",
       "Product Category               0\n",
       "Product Brand                  0\n",
       "Product Name                   0\n",
       "Product Image Url              0\n",
       "Product Description            0\n",
       "Product Tags                   0\n",
       "Product Available Inventory    0\n",
       "dtype: int64"
      ]
     },
     "execution_count": 49,
     "metadata": {},
     "output_type": "execute_result"
    }
   ],
   "source": [
    "train_data.isnull().sum()"
   ]
  },
  {
   "cell_type": "code",
   "execution_count": 51,
   "id": "fa4021f6",
   "metadata": {},
   "outputs": [
    {
     "data": {
      "text/plain": [
       "0"
      ]
     },
     "execution_count": 51,
     "metadata": {},
     "output_type": "execute_result"
    }
   ],
   "source": [
    "train_data.duplicated().sum()"
   ]
  },
  {
   "cell_type": "code",
   "execution_count": 53,
   "id": "3028bdfc",
   "metadata": {},
   "outputs": [],
   "source": [
    "# make columns shorter\n",
    "# Define the mapping of current column names to shorter names\n",
    "column_name_mapping = {\n",
    "    'Uniq Id': 'ID',\n",
    "    'Product Id': 'ProdID',\n",
    "    'Product Rating': 'Rating',\n",
    "    'Product Reviews Count': 'ReviewCount',\n",
    "    'Product Category': 'Category',\n",
    "    'Product Brand': 'Brand',\n",
    "    'Product Name': 'Name',\n",
    "    'Product Image Url': 'ImageURL',\n",
    "    'Product Description': 'Description',\n",
    "    'Product Tags': 'Tags',\n",
    "    'Product Contents': 'Contents'\n",
    "}\n",
    "# Rename the columns using the mapping\n",
    "train_data.rename(columns=column_name_mapping, inplace=True)"
   ]
  },
  {
   "cell_type": "code",
   "execution_count": 32,
   "id": "7b988d09",
   "metadata": {},
   "outputs": [],
   "source": [
    "train_data['ID'] = train_data['ID'].str.extract(r'(\\d+)').astype(float)\n",
    "train_data['ProdID'] = train_data['ProdID'].str.extract(r'(\\d+)').astype(float)"
   ]
  },
  {
   "cell_type": "markdown",
   "id": "57762064",
   "metadata": {},
   "source": [
    "# Step 2: EDA (Exploratory Data Analysis)"
   ]
  },
  {
   "cell_type": "code",
   "execution_count": 65,
   "id": "77d39f33",
   "metadata": {},
   "outputs": [
    {
     "name": "stdout",
     "output_type": "stream",
     "text": [
      "Number of unique users: 5000\n",
      "Number of unique items: 4802\n",
      "Number of unique ratings: 36\n"
     ]
    }
   ],
   "source": [
    "# Basic statistics\n",
    "num_users = train_data['ID'].nunique()\n",
    "num_items = train_data['ProdID'].nunique()\n",
    "num_ratings = train_data['Rating'].nunique()\n",
    "print(f\"Number of unique users: {num_users}\")\n",
    "print(f\"Number of unique items: {num_items}\")\n",
    "print(f\"Number of unique ratings: {num_ratings}\")"
   ]
  },
  {
   "cell_type": "code",
   "execution_count": 63,
   "id": "5d91b1a1",
   "metadata": {},
   "outputs": [
    {
     "ename": "TypeError",
     "evalue": "agg function failed [how->mean,dtype->object]",
     "output_type": "error",
     "traceback": [
      "\u001b[1;31m---------------------------------------------------------------------------\u001b[0m",
      "\u001b[1;31mTypeError\u001b[0m                                 Traceback (most recent call last)",
      "File \u001b[1;32mE:\\Program\\Anaconda\\Lib\\site-packages\\pandas\\core\\groupby\\groupby.py:1942\u001b[0m, in \u001b[0;36mGroupBy._agg_py_fallback\u001b[1;34m(self, how, values, ndim, alt)\u001b[0m\n\u001b[0;32m   1941\u001b[0m \u001b[38;5;28;01mtry\u001b[39;00m:\n\u001b[1;32m-> 1942\u001b[0m     res_values \u001b[38;5;241m=\u001b[39m \u001b[38;5;28mself\u001b[39m\u001b[38;5;241m.\u001b[39m_grouper\u001b[38;5;241m.\u001b[39magg_series(ser, alt, preserve_dtype\u001b[38;5;241m=\u001b[39m\u001b[38;5;28;01mTrue\u001b[39;00m)\n\u001b[0;32m   1943\u001b[0m \u001b[38;5;28;01mexcept\u001b[39;00m \u001b[38;5;167;01mException\u001b[39;00m \u001b[38;5;28;01mas\u001b[39;00m err:\n",
      "File \u001b[1;32mE:\\Program\\Anaconda\\Lib\\site-packages\\pandas\\core\\groupby\\ops.py:864\u001b[0m, in \u001b[0;36mBaseGrouper.agg_series\u001b[1;34m(self, obj, func, preserve_dtype)\u001b[0m\n\u001b[0;32m    862\u001b[0m     preserve_dtype \u001b[38;5;241m=\u001b[39m \u001b[38;5;28;01mTrue\u001b[39;00m\n\u001b[1;32m--> 864\u001b[0m result \u001b[38;5;241m=\u001b[39m \u001b[38;5;28mself\u001b[39m\u001b[38;5;241m.\u001b[39m_aggregate_series_pure_python(obj, func)\n\u001b[0;32m    866\u001b[0m npvalues \u001b[38;5;241m=\u001b[39m lib\u001b[38;5;241m.\u001b[39mmaybe_convert_objects(result, try_float\u001b[38;5;241m=\u001b[39m\u001b[38;5;28;01mFalse\u001b[39;00m)\n",
      "File \u001b[1;32mE:\\Program\\Anaconda\\Lib\\site-packages\\pandas\\core\\groupby\\ops.py:885\u001b[0m, in \u001b[0;36mBaseGrouper._aggregate_series_pure_python\u001b[1;34m(self, obj, func)\u001b[0m\n\u001b[0;32m    884\u001b[0m \u001b[38;5;28;01mfor\u001b[39;00m i, group \u001b[38;5;129;01min\u001b[39;00m \u001b[38;5;28menumerate\u001b[39m(splitter):\n\u001b[1;32m--> 885\u001b[0m     res \u001b[38;5;241m=\u001b[39m func(group)\n\u001b[0;32m    886\u001b[0m     res \u001b[38;5;241m=\u001b[39m extract_result(res)\n",
      "File \u001b[1;32mE:\\Program\\Anaconda\\Lib\\site-packages\\pandas\\core\\groupby\\groupby.py:2454\u001b[0m, in \u001b[0;36mGroupBy.mean.<locals>.<lambda>\u001b[1;34m(x)\u001b[0m\n\u001b[0;32m   2451\u001b[0m \u001b[38;5;28;01melse\u001b[39;00m:\n\u001b[0;32m   2452\u001b[0m     result \u001b[38;5;241m=\u001b[39m \u001b[38;5;28mself\u001b[39m\u001b[38;5;241m.\u001b[39m_cython_agg_general(\n\u001b[0;32m   2453\u001b[0m         \u001b[38;5;124m\"\u001b[39m\u001b[38;5;124mmean\u001b[39m\u001b[38;5;124m\"\u001b[39m,\n\u001b[1;32m-> 2454\u001b[0m         alt\u001b[38;5;241m=\u001b[39m\u001b[38;5;28;01mlambda\u001b[39;00m x: Series(x, copy\u001b[38;5;241m=\u001b[39m\u001b[38;5;28;01mFalse\u001b[39;00m)\u001b[38;5;241m.\u001b[39mmean(numeric_only\u001b[38;5;241m=\u001b[39mnumeric_only),\n\u001b[0;32m   2455\u001b[0m         numeric_only\u001b[38;5;241m=\u001b[39mnumeric_only,\n\u001b[0;32m   2456\u001b[0m     )\n\u001b[0;32m   2457\u001b[0m     \u001b[38;5;28;01mreturn\u001b[39;00m result\u001b[38;5;241m.\u001b[39m__finalize__(\u001b[38;5;28mself\u001b[39m\u001b[38;5;241m.\u001b[39mobj, method\u001b[38;5;241m=\u001b[39m\u001b[38;5;124m\"\u001b[39m\u001b[38;5;124mgroupby\u001b[39m\u001b[38;5;124m\"\u001b[39m)\n",
      "File \u001b[1;32mE:\\Program\\Anaconda\\Lib\\site-packages\\pandas\\core\\series.py:6549\u001b[0m, in \u001b[0;36mSeries.mean\u001b[1;34m(self, axis, skipna, numeric_only, **kwargs)\u001b[0m\n\u001b[0;32m   6541\u001b[0m \u001b[38;5;129m@doc\u001b[39m(make_doc(\u001b[38;5;124m\"\u001b[39m\u001b[38;5;124mmean\u001b[39m\u001b[38;5;124m\"\u001b[39m, ndim\u001b[38;5;241m=\u001b[39m\u001b[38;5;241m1\u001b[39m))\n\u001b[0;32m   6542\u001b[0m \u001b[38;5;28;01mdef\u001b[39;00m \u001b[38;5;21mmean\u001b[39m(\n\u001b[0;32m   6543\u001b[0m     \u001b[38;5;28mself\u001b[39m,\n\u001b[1;32m   (...)\u001b[0m\n\u001b[0;32m   6547\u001b[0m     \u001b[38;5;241m*\u001b[39m\u001b[38;5;241m*\u001b[39mkwargs,\n\u001b[0;32m   6548\u001b[0m ):\n\u001b[1;32m-> 6549\u001b[0m     \u001b[38;5;28;01mreturn\u001b[39;00m NDFrame\u001b[38;5;241m.\u001b[39mmean(\u001b[38;5;28mself\u001b[39m, axis, skipna, numeric_only, \u001b[38;5;241m*\u001b[39m\u001b[38;5;241m*\u001b[39mkwargs)\n",
      "File \u001b[1;32mE:\\Program\\Anaconda\\Lib\\site-packages\\pandas\\core\\generic.py:12420\u001b[0m, in \u001b[0;36mNDFrame.mean\u001b[1;34m(self, axis, skipna, numeric_only, **kwargs)\u001b[0m\n\u001b[0;32m  12413\u001b[0m \u001b[38;5;28;01mdef\u001b[39;00m \u001b[38;5;21mmean\u001b[39m(\n\u001b[0;32m  12414\u001b[0m     \u001b[38;5;28mself\u001b[39m,\n\u001b[0;32m  12415\u001b[0m     axis: Axis \u001b[38;5;241m|\u001b[39m \u001b[38;5;28;01mNone\u001b[39;00m \u001b[38;5;241m=\u001b[39m \u001b[38;5;241m0\u001b[39m,\n\u001b[1;32m   (...)\u001b[0m\n\u001b[0;32m  12418\u001b[0m     \u001b[38;5;241m*\u001b[39m\u001b[38;5;241m*\u001b[39mkwargs,\n\u001b[0;32m  12419\u001b[0m ) \u001b[38;5;241m-\u001b[39m\u001b[38;5;241m>\u001b[39m Series \u001b[38;5;241m|\u001b[39m \u001b[38;5;28mfloat\u001b[39m:\n\u001b[1;32m> 12420\u001b[0m     \u001b[38;5;28;01mreturn\u001b[39;00m \u001b[38;5;28mself\u001b[39m\u001b[38;5;241m.\u001b[39m_stat_function(\n\u001b[0;32m  12421\u001b[0m         \u001b[38;5;124m\"\u001b[39m\u001b[38;5;124mmean\u001b[39m\u001b[38;5;124m\"\u001b[39m, nanops\u001b[38;5;241m.\u001b[39mnanmean, axis, skipna, numeric_only, \u001b[38;5;241m*\u001b[39m\u001b[38;5;241m*\u001b[39mkwargs\n\u001b[0;32m  12422\u001b[0m     )\n",
      "File \u001b[1;32mE:\\Program\\Anaconda\\Lib\\site-packages\\pandas\\core\\generic.py:12377\u001b[0m, in \u001b[0;36mNDFrame._stat_function\u001b[1;34m(self, name, func, axis, skipna, numeric_only, **kwargs)\u001b[0m\n\u001b[0;32m  12375\u001b[0m validate_bool_kwarg(skipna, \u001b[38;5;124m\"\u001b[39m\u001b[38;5;124mskipna\u001b[39m\u001b[38;5;124m\"\u001b[39m, none_allowed\u001b[38;5;241m=\u001b[39m\u001b[38;5;28;01mFalse\u001b[39;00m)\n\u001b[1;32m> 12377\u001b[0m \u001b[38;5;28;01mreturn\u001b[39;00m \u001b[38;5;28mself\u001b[39m\u001b[38;5;241m.\u001b[39m_reduce(\n\u001b[0;32m  12378\u001b[0m     func, name\u001b[38;5;241m=\u001b[39mname, axis\u001b[38;5;241m=\u001b[39maxis, skipna\u001b[38;5;241m=\u001b[39mskipna, numeric_only\u001b[38;5;241m=\u001b[39mnumeric_only\n\u001b[0;32m  12379\u001b[0m )\n",
      "File \u001b[1;32mE:\\Program\\Anaconda\\Lib\\site-packages\\pandas\\core\\series.py:6457\u001b[0m, in \u001b[0;36mSeries._reduce\u001b[1;34m(self, op, name, axis, skipna, numeric_only, filter_type, **kwds)\u001b[0m\n\u001b[0;32m   6453\u001b[0m     \u001b[38;5;28;01mraise\u001b[39;00m \u001b[38;5;167;01mTypeError\u001b[39;00m(\n\u001b[0;32m   6454\u001b[0m         \u001b[38;5;124mf\u001b[39m\u001b[38;5;124m\"\u001b[39m\u001b[38;5;124mSeries.\u001b[39m\u001b[38;5;132;01m{\u001b[39;00mname\u001b[38;5;132;01m}\u001b[39;00m\u001b[38;5;124m does not allow \u001b[39m\u001b[38;5;132;01m{\u001b[39;00mkwd_name\u001b[38;5;132;01m}\u001b[39;00m\u001b[38;5;124m=\u001b[39m\u001b[38;5;132;01m{\u001b[39;00mnumeric_only\u001b[38;5;132;01m}\u001b[39;00m\u001b[38;5;124m \u001b[39m\u001b[38;5;124m\"\u001b[39m\n\u001b[0;32m   6455\u001b[0m         \u001b[38;5;124m\"\u001b[39m\u001b[38;5;124mwith non-numeric dtypes.\u001b[39m\u001b[38;5;124m\"\u001b[39m\n\u001b[0;32m   6456\u001b[0m     )\n\u001b[1;32m-> 6457\u001b[0m \u001b[38;5;28;01mreturn\u001b[39;00m op(delegate, skipna\u001b[38;5;241m=\u001b[39mskipna, \u001b[38;5;241m*\u001b[39m\u001b[38;5;241m*\u001b[39mkwds)\n",
      "File \u001b[1;32mE:\\Program\\Anaconda\\Lib\\site-packages\\pandas\\core\\nanops.py:147\u001b[0m, in \u001b[0;36mbottleneck_switch.__call__.<locals>.f\u001b[1;34m(values, axis, skipna, **kwds)\u001b[0m\n\u001b[0;32m    146\u001b[0m \u001b[38;5;28;01melse\u001b[39;00m:\n\u001b[1;32m--> 147\u001b[0m     result \u001b[38;5;241m=\u001b[39m alt(values, axis\u001b[38;5;241m=\u001b[39maxis, skipna\u001b[38;5;241m=\u001b[39mskipna, \u001b[38;5;241m*\u001b[39m\u001b[38;5;241m*\u001b[39mkwds)\n\u001b[0;32m    149\u001b[0m \u001b[38;5;28;01mreturn\u001b[39;00m result\n",
      "File \u001b[1;32mE:\\Program\\Anaconda\\Lib\\site-packages\\pandas\\core\\nanops.py:404\u001b[0m, in \u001b[0;36m_datetimelike_compat.<locals>.new_func\u001b[1;34m(values, axis, skipna, mask, **kwargs)\u001b[0m\n\u001b[0;32m    402\u001b[0m     mask \u001b[38;5;241m=\u001b[39m isna(values)\n\u001b[1;32m--> 404\u001b[0m result \u001b[38;5;241m=\u001b[39m func(values, axis\u001b[38;5;241m=\u001b[39maxis, skipna\u001b[38;5;241m=\u001b[39mskipna, mask\u001b[38;5;241m=\u001b[39mmask, \u001b[38;5;241m*\u001b[39m\u001b[38;5;241m*\u001b[39mkwargs)\n\u001b[0;32m    406\u001b[0m \u001b[38;5;28;01mif\u001b[39;00m datetimelike:\n",
      "File \u001b[1;32mE:\\Program\\Anaconda\\Lib\\site-packages\\pandas\\core\\nanops.py:720\u001b[0m, in \u001b[0;36mnanmean\u001b[1;34m(values, axis, skipna, mask)\u001b[0m\n\u001b[0;32m    719\u001b[0m the_sum \u001b[38;5;241m=\u001b[39m values\u001b[38;5;241m.\u001b[39msum(axis, dtype\u001b[38;5;241m=\u001b[39mdtype_sum)\n\u001b[1;32m--> 720\u001b[0m the_sum \u001b[38;5;241m=\u001b[39m _ensure_numeric(the_sum)\n\u001b[0;32m    722\u001b[0m \u001b[38;5;28;01mif\u001b[39;00m axis \u001b[38;5;129;01mis\u001b[39;00m \u001b[38;5;129;01mnot\u001b[39;00m \u001b[38;5;28;01mNone\u001b[39;00m \u001b[38;5;129;01mand\u001b[39;00m \u001b[38;5;28mgetattr\u001b[39m(the_sum, \u001b[38;5;124m\"\u001b[39m\u001b[38;5;124mndim\u001b[39m\u001b[38;5;124m\"\u001b[39m, \u001b[38;5;28;01mFalse\u001b[39;00m):\n",
      "File \u001b[1;32mE:\\Program\\Anaconda\\Lib\\site-packages\\pandas\\core\\nanops.py:1701\u001b[0m, in \u001b[0;36m_ensure_numeric\u001b[1;34m(x)\u001b[0m\n\u001b[0;32m   1699\u001b[0m \u001b[38;5;28;01mif\u001b[39;00m \u001b[38;5;28misinstance\u001b[39m(x, \u001b[38;5;28mstr\u001b[39m):\n\u001b[0;32m   1700\u001b[0m     \u001b[38;5;66;03m# GH#44008, GH#36703 avoid casting e.g. strings to numeric\u001b[39;00m\n\u001b[1;32m-> 1701\u001b[0m     \u001b[38;5;28;01mraise\u001b[39;00m \u001b[38;5;167;01mTypeError\u001b[39;00m(\u001b[38;5;124mf\u001b[39m\u001b[38;5;124m\"\u001b[39m\u001b[38;5;124mCould not convert string \u001b[39m\u001b[38;5;124m'\u001b[39m\u001b[38;5;132;01m{\u001b[39;00mx\u001b[38;5;132;01m}\u001b[39;00m\u001b[38;5;124m'\u001b[39m\u001b[38;5;124m to numeric\u001b[39m\u001b[38;5;124m\"\u001b[39m)\n\u001b[0;32m   1702\u001b[0m \u001b[38;5;28;01mtry\u001b[39;00m:\n",
      "\u001b[1;31mTypeError\u001b[0m: Could not convert string '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' to numeric",
      "\nThe above exception was the direct cause of the following exception:\n",
      "\u001b[1;31mTypeError\u001b[0m                                 Traceback (most recent call last)",
      "Cell \u001b[1;32mIn[63], line 2\u001b[0m\n\u001b[0;32m      1\u001b[0m \u001b[38;5;66;03m# Pivot the DataFrame to create a heatmap\u001b[39;00m\n\u001b[1;32m----> 2\u001b[0m heatmap_data \u001b[38;5;241m=\u001b[39m train_data\u001b[38;5;241m.\u001b[39mpivot_table(\u001b[38;5;124m'\u001b[39m\u001b[38;5;124mID\u001b[39m\u001b[38;5;124m'\u001b[39m, \u001b[38;5;124m'\u001b[39m\u001b[38;5;124mRating\u001b[39m\u001b[38;5;124m'\u001b[39m)\n\u001b[0;32m      4\u001b[0m \u001b[38;5;66;03m# Create the heatmap\u001b[39;00m\n\u001b[0;32m      5\u001b[0m plt\u001b[38;5;241m.\u001b[39mfigure(figsize\u001b[38;5;241m=\u001b[39m(\u001b[38;5;241m8\u001b[39m, \u001b[38;5;241m6\u001b[39m))\n",
      "File \u001b[1;32mE:\\Program\\Anaconda\\Lib\\site-packages\\pandas\\core\\frame.py:9509\u001b[0m, in \u001b[0;36mDataFrame.pivot_table\u001b[1;34m(self, values, index, columns, aggfunc, fill_value, margins, dropna, margins_name, observed, sort)\u001b[0m\n\u001b[0;32m   9492\u001b[0m \u001b[38;5;129m@Substitution\u001b[39m(\u001b[38;5;124m\"\u001b[39m\u001b[38;5;124m\"\u001b[39m)\n\u001b[0;32m   9493\u001b[0m \u001b[38;5;129m@Appender\u001b[39m(_shared_docs[\u001b[38;5;124m\"\u001b[39m\u001b[38;5;124mpivot_table\u001b[39m\u001b[38;5;124m\"\u001b[39m])\n\u001b[0;32m   9494\u001b[0m \u001b[38;5;28;01mdef\u001b[39;00m \u001b[38;5;21mpivot_table\u001b[39m(\n\u001b[1;32m   (...)\u001b[0m\n\u001b[0;32m   9505\u001b[0m     sort: \u001b[38;5;28mbool\u001b[39m \u001b[38;5;241m=\u001b[39m \u001b[38;5;28;01mTrue\u001b[39;00m,\n\u001b[0;32m   9506\u001b[0m ) \u001b[38;5;241m-\u001b[39m\u001b[38;5;241m>\u001b[39m DataFrame:\n\u001b[0;32m   9507\u001b[0m     \u001b[38;5;28;01mfrom\u001b[39;00m \u001b[38;5;21;01mpandas\u001b[39;00m\u001b[38;5;21;01m.\u001b[39;00m\u001b[38;5;21;01mcore\u001b[39;00m\u001b[38;5;21;01m.\u001b[39;00m\u001b[38;5;21;01mreshape\u001b[39;00m\u001b[38;5;21;01m.\u001b[39;00m\u001b[38;5;21;01mpivot\u001b[39;00m \u001b[38;5;28;01mimport\u001b[39;00m pivot_table\n\u001b[1;32m-> 9509\u001b[0m     \u001b[38;5;28;01mreturn\u001b[39;00m pivot_table(\n\u001b[0;32m   9510\u001b[0m         \u001b[38;5;28mself\u001b[39m,\n\u001b[0;32m   9511\u001b[0m         values\u001b[38;5;241m=\u001b[39mvalues,\n\u001b[0;32m   9512\u001b[0m         index\u001b[38;5;241m=\u001b[39mindex,\n\u001b[0;32m   9513\u001b[0m         columns\u001b[38;5;241m=\u001b[39mcolumns,\n\u001b[0;32m   9514\u001b[0m         aggfunc\u001b[38;5;241m=\u001b[39maggfunc,\n\u001b[0;32m   9515\u001b[0m         fill_value\u001b[38;5;241m=\u001b[39mfill_value,\n\u001b[0;32m   9516\u001b[0m         margins\u001b[38;5;241m=\u001b[39mmargins,\n\u001b[0;32m   9517\u001b[0m         dropna\u001b[38;5;241m=\u001b[39mdropna,\n\u001b[0;32m   9518\u001b[0m         margins_name\u001b[38;5;241m=\u001b[39mmargins_name,\n\u001b[0;32m   9519\u001b[0m         observed\u001b[38;5;241m=\u001b[39mobserved,\n\u001b[0;32m   9520\u001b[0m         sort\u001b[38;5;241m=\u001b[39msort,\n\u001b[0;32m   9521\u001b[0m     )\n",
      "File \u001b[1;32mE:\\Program\\Anaconda\\Lib\\site-packages\\pandas\\core\\reshape\\pivot.py:102\u001b[0m, in \u001b[0;36mpivot_table\u001b[1;34m(data, values, index, columns, aggfunc, fill_value, margins, dropna, margins_name, observed, sort)\u001b[0m\n\u001b[0;32m     99\u001b[0m     table \u001b[38;5;241m=\u001b[39m concat(pieces, keys\u001b[38;5;241m=\u001b[39mkeys, axis\u001b[38;5;241m=\u001b[39m\u001b[38;5;241m1\u001b[39m)\n\u001b[0;32m    100\u001b[0m     \u001b[38;5;28;01mreturn\u001b[39;00m table\u001b[38;5;241m.\u001b[39m__finalize__(data, method\u001b[38;5;241m=\u001b[39m\u001b[38;5;124m\"\u001b[39m\u001b[38;5;124mpivot_table\u001b[39m\u001b[38;5;124m\"\u001b[39m)\n\u001b[1;32m--> 102\u001b[0m table \u001b[38;5;241m=\u001b[39m __internal_pivot_table(\n\u001b[0;32m    103\u001b[0m     data,\n\u001b[0;32m    104\u001b[0m     values,\n\u001b[0;32m    105\u001b[0m     index,\n\u001b[0;32m    106\u001b[0m     columns,\n\u001b[0;32m    107\u001b[0m     aggfunc,\n\u001b[0;32m    108\u001b[0m     fill_value,\n\u001b[0;32m    109\u001b[0m     margins,\n\u001b[0;32m    110\u001b[0m     dropna,\n\u001b[0;32m    111\u001b[0m     margins_name,\n\u001b[0;32m    112\u001b[0m     observed,\n\u001b[0;32m    113\u001b[0m     sort,\n\u001b[0;32m    114\u001b[0m )\n\u001b[0;32m    115\u001b[0m \u001b[38;5;28;01mreturn\u001b[39;00m table\u001b[38;5;241m.\u001b[39m__finalize__(data, method\u001b[38;5;241m=\u001b[39m\u001b[38;5;124m\"\u001b[39m\u001b[38;5;124mpivot_table\u001b[39m\u001b[38;5;124m\"\u001b[39m)\n",
      "File \u001b[1;32mE:\\Program\\Anaconda\\Lib\\site-packages\\pandas\\core\\reshape\\pivot.py:183\u001b[0m, in \u001b[0;36m__internal_pivot_table\u001b[1;34m(data, values, index, columns, aggfunc, fill_value, margins, dropna, margins_name, observed, sort)\u001b[0m\n\u001b[0;32m    173\u001b[0m \u001b[38;5;28;01mif\u001b[39;00m observed \u001b[38;5;129;01mis\u001b[39;00m lib\u001b[38;5;241m.\u001b[39mno_default \u001b[38;5;129;01mand\u001b[39;00m \u001b[38;5;28many\u001b[39m(\n\u001b[0;32m    174\u001b[0m     ping\u001b[38;5;241m.\u001b[39m_passed_categorical \u001b[38;5;28;01mfor\u001b[39;00m ping \u001b[38;5;129;01min\u001b[39;00m grouped\u001b[38;5;241m.\u001b[39m_grouper\u001b[38;5;241m.\u001b[39mgroupings\n\u001b[0;32m    175\u001b[0m ):\n\u001b[0;32m    176\u001b[0m     warnings\u001b[38;5;241m.\u001b[39mwarn(\n\u001b[0;32m    177\u001b[0m         \u001b[38;5;124m\"\u001b[39m\u001b[38;5;124mThe default value of observed=False is deprecated and will change \u001b[39m\u001b[38;5;124m\"\u001b[39m\n\u001b[0;32m    178\u001b[0m         \u001b[38;5;124m\"\u001b[39m\u001b[38;5;124mto observed=True in a future version of pandas. Specify \u001b[39m\u001b[38;5;124m\"\u001b[39m\n\u001b[1;32m   (...)\u001b[0m\n\u001b[0;32m    181\u001b[0m         stacklevel\u001b[38;5;241m=\u001b[39mfind_stack_level(),\n\u001b[0;32m    182\u001b[0m     )\n\u001b[1;32m--> 183\u001b[0m agged \u001b[38;5;241m=\u001b[39m grouped\u001b[38;5;241m.\u001b[39magg(aggfunc)\n\u001b[0;32m    185\u001b[0m \u001b[38;5;28;01mif\u001b[39;00m dropna \u001b[38;5;129;01mand\u001b[39;00m \u001b[38;5;28misinstance\u001b[39m(agged, ABCDataFrame) \u001b[38;5;129;01mand\u001b[39;00m \u001b[38;5;28mlen\u001b[39m(agged\u001b[38;5;241m.\u001b[39mcolumns):\n\u001b[0;32m    186\u001b[0m     agged \u001b[38;5;241m=\u001b[39m agged\u001b[38;5;241m.\u001b[39mdropna(how\u001b[38;5;241m=\u001b[39m\u001b[38;5;124m\"\u001b[39m\u001b[38;5;124mall\u001b[39m\u001b[38;5;124m\"\u001b[39m)\n",
      "File \u001b[1;32mE:\\Program\\Anaconda\\Lib\\site-packages\\pandas\\core\\groupby\\generic.py:1432\u001b[0m, in \u001b[0;36mDataFrameGroupBy.aggregate\u001b[1;34m(self, func, engine, engine_kwargs, *args, **kwargs)\u001b[0m\n\u001b[0;32m   1429\u001b[0m     kwargs[\u001b[38;5;124m\"\u001b[39m\u001b[38;5;124mengine_kwargs\u001b[39m\u001b[38;5;124m\"\u001b[39m] \u001b[38;5;241m=\u001b[39m engine_kwargs\n\u001b[0;32m   1431\u001b[0m op \u001b[38;5;241m=\u001b[39m GroupByApply(\u001b[38;5;28mself\u001b[39m, func, args\u001b[38;5;241m=\u001b[39margs, kwargs\u001b[38;5;241m=\u001b[39mkwargs)\n\u001b[1;32m-> 1432\u001b[0m result \u001b[38;5;241m=\u001b[39m op\u001b[38;5;241m.\u001b[39magg()\n\u001b[0;32m   1433\u001b[0m \u001b[38;5;28;01mif\u001b[39;00m \u001b[38;5;129;01mnot\u001b[39;00m is_dict_like(func) \u001b[38;5;129;01mand\u001b[39;00m result \u001b[38;5;129;01mis\u001b[39;00m \u001b[38;5;129;01mnot\u001b[39;00m \u001b[38;5;28;01mNone\u001b[39;00m:\n\u001b[0;32m   1434\u001b[0m     \u001b[38;5;66;03m# GH #52849\u001b[39;00m\n\u001b[0;32m   1435\u001b[0m     \u001b[38;5;28;01mif\u001b[39;00m \u001b[38;5;129;01mnot\u001b[39;00m \u001b[38;5;28mself\u001b[39m\u001b[38;5;241m.\u001b[39mas_index \u001b[38;5;129;01mand\u001b[39;00m is_list_like(func):\n",
      "File \u001b[1;32mE:\\Program\\Anaconda\\Lib\\site-packages\\pandas\\core\\apply.py:187\u001b[0m, in \u001b[0;36mApply.agg\u001b[1;34m(self)\u001b[0m\n\u001b[0;32m    184\u001b[0m kwargs \u001b[38;5;241m=\u001b[39m \u001b[38;5;28mself\u001b[39m\u001b[38;5;241m.\u001b[39mkwargs\n\u001b[0;32m    186\u001b[0m \u001b[38;5;28;01mif\u001b[39;00m \u001b[38;5;28misinstance\u001b[39m(func, \u001b[38;5;28mstr\u001b[39m):\n\u001b[1;32m--> 187\u001b[0m     \u001b[38;5;28;01mreturn\u001b[39;00m \u001b[38;5;28mself\u001b[39m\u001b[38;5;241m.\u001b[39mapply_str()\n\u001b[0;32m    189\u001b[0m \u001b[38;5;28;01mif\u001b[39;00m is_dict_like(func):\n\u001b[0;32m    190\u001b[0m     \u001b[38;5;28;01mreturn\u001b[39;00m \u001b[38;5;28mself\u001b[39m\u001b[38;5;241m.\u001b[39magg_dict_like()\n",
      "File \u001b[1;32mE:\\Program\\Anaconda\\Lib\\site-packages\\pandas\\core\\apply.py:603\u001b[0m, in \u001b[0;36mApply.apply_str\u001b[1;34m(self)\u001b[0m\n\u001b[0;32m    601\u001b[0m         \u001b[38;5;28;01melse\u001b[39;00m:\n\u001b[0;32m    602\u001b[0m             \u001b[38;5;28mself\u001b[39m\u001b[38;5;241m.\u001b[39mkwargs[\u001b[38;5;124m\"\u001b[39m\u001b[38;5;124maxis\u001b[39m\u001b[38;5;124m\"\u001b[39m] \u001b[38;5;241m=\u001b[39m \u001b[38;5;28mself\u001b[39m\u001b[38;5;241m.\u001b[39maxis\n\u001b[1;32m--> 603\u001b[0m \u001b[38;5;28;01mreturn\u001b[39;00m \u001b[38;5;28mself\u001b[39m\u001b[38;5;241m.\u001b[39m_apply_str(obj, func, \u001b[38;5;241m*\u001b[39m\u001b[38;5;28mself\u001b[39m\u001b[38;5;241m.\u001b[39margs, \u001b[38;5;241m*\u001b[39m\u001b[38;5;241m*\u001b[39m\u001b[38;5;28mself\u001b[39m\u001b[38;5;241m.\u001b[39mkwargs)\n",
      "File \u001b[1;32mE:\\Program\\Anaconda\\Lib\\site-packages\\pandas\\core\\apply.py:693\u001b[0m, in \u001b[0;36mApply._apply_str\u001b[1;34m(self, obj, func, *args, **kwargs)\u001b[0m\n\u001b[0;32m    691\u001b[0m f \u001b[38;5;241m=\u001b[39m \u001b[38;5;28mgetattr\u001b[39m(obj, func)\n\u001b[0;32m    692\u001b[0m \u001b[38;5;28;01mif\u001b[39;00m \u001b[38;5;28mcallable\u001b[39m(f):\n\u001b[1;32m--> 693\u001b[0m     \u001b[38;5;28;01mreturn\u001b[39;00m f(\u001b[38;5;241m*\u001b[39margs, \u001b[38;5;241m*\u001b[39m\u001b[38;5;241m*\u001b[39mkwargs)\n\u001b[0;32m    695\u001b[0m \u001b[38;5;66;03m# people may aggregate on a non-callable attribute\u001b[39;00m\n\u001b[0;32m    696\u001b[0m \u001b[38;5;66;03m# but don't let them think they can pass args to it\u001b[39;00m\n\u001b[0;32m    697\u001b[0m \u001b[38;5;28;01massert\u001b[39;00m \u001b[38;5;28mlen\u001b[39m(args) \u001b[38;5;241m==\u001b[39m \u001b[38;5;241m0\u001b[39m\n",
      "File \u001b[1;32mE:\\Program\\Anaconda\\Lib\\site-packages\\pandas\\core\\groupby\\groupby.py:2452\u001b[0m, in \u001b[0;36mGroupBy.mean\u001b[1;34m(self, numeric_only, engine, engine_kwargs)\u001b[0m\n\u001b[0;32m   2445\u001b[0m     \u001b[38;5;28;01mreturn\u001b[39;00m \u001b[38;5;28mself\u001b[39m\u001b[38;5;241m.\u001b[39m_numba_agg_general(\n\u001b[0;32m   2446\u001b[0m         grouped_mean,\n\u001b[0;32m   2447\u001b[0m         executor\u001b[38;5;241m.\u001b[39mfloat_dtype_mapping,\n\u001b[0;32m   2448\u001b[0m         engine_kwargs,\n\u001b[0;32m   2449\u001b[0m         min_periods\u001b[38;5;241m=\u001b[39m\u001b[38;5;241m0\u001b[39m,\n\u001b[0;32m   2450\u001b[0m     )\n\u001b[0;32m   2451\u001b[0m \u001b[38;5;28;01melse\u001b[39;00m:\n\u001b[1;32m-> 2452\u001b[0m     result \u001b[38;5;241m=\u001b[39m \u001b[38;5;28mself\u001b[39m\u001b[38;5;241m.\u001b[39m_cython_agg_general(\n\u001b[0;32m   2453\u001b[0m         \u001b[38;5;124m\"\u001b[39m\u001b[38;5;124mmean\u001b[39m\u001b[38;5;124m\"\u001b[39m,\n\u001b[0;32m   2454\u001b[0m         alt\u001b[38;5;241m=\u001b[39m\u001b[38;5;28;01mlambda\u001b[39;00m x: Series(x, copy\u001b[38;5;241m=\u001b[39m\u001b[38;5;28;01mFalse\u001b[39;00m)\u001b[38;5;241m.\u001b[39mmean(numeric_only\u001b[38;5;241m=\u001b[39mnumeric_only),\n\u001b[0;32m   2455\u001b[0m         numeric_only\u001b[38;5;241m=\u001b[39mnumeric_only,\n\u001b[0;32m   2456\u001b[0m     )\n\u001b[0;32m   2457\u001b[0m     \u001b[38;5;28;01mreturn\u001b[39;00m result\u001b[38;5;241m.\u001b[39m__finalize__(\u001b[38;5;28mself\u001b[39m\u001b[38;5;241m.\u001b[39mobj, method\u001b[38;5;241m=\u001b[39m\u001b[38;5;124m\"\u001b[39m\u001b[38;5;124mgroupby\u001b[39m\u001b[38;5;124m\"\u001b[39m)\n",
      "File \u001b[1;32mE:\\Program\\Anaconda\\Lib\\site-packages\\pandas\\core\\groupby\\groupby.py:1998\u001b[0m, in \u001b[0;36mGroupBy._cython_agg_general\u001b[1;34m(self, how, alt, numeric_only, min_count, **kwargs)\u001b[0m\n\u001b[0;32m   1995\u001b[0m     result \u001b[38;5;241m=\u001b[39m \u001b[38;5;28mself\u001b[39m\u001b[38;5;241m.\u001b[39m_agg_py_fallback(how, values, ndim\u001b[38;5;241m=\u001b[39mdata\u001b[38;5;241m.\u001b[39mndim, alt\u001b[38;5;241m=\u001b[39malt)\n\u001b[0;32m   1996\u001b[0m     \u001b[38;5;28;01mreturn\u001b[39;00m result\n\u001b[1;32m-> 1998\u001b[0m new_mgr \u001b[38;5;241m=\u001b[39m data\u001b[38;5;241m.\u001b[39mgrouped_reduce(array_func)\n\u001b[0;32m   1999\u001b[0m res \u001b[38;5;241m=\u001b[39m \u001b[38;5;28mself\u001b[39m\u001b[38;5;241m.\u001b[39m_wrap_agged_manager(new_mgr)\n\u001b[0;32m   2000\u001b[0m \u001b[38;5;28;01mif\u001b[39;00m how \u001b[38;5;129;01min\u001b[39;00m [\u001b[38;5;124m\"\u001b[39m\u001b[38;5;124midxmin\u001b[39m\u001b[38;5;124m\"\u001b[39m, \u001b[38;5;124m\"\u001b[39m\u001b[38;5;124midxmax\u001b[39m\u001b[38;5;124m\"\u001b[39m]:\n",
      "File \u001b[1;32mE:\\Program\\Anaconda\\Lib\\site-packages\\pandas\\core\\internals\\managers.py:1469\u001b[0m, in \u001b[0;36mBlockManager.grouped_reduce\u001b[1;34m(self, func)\u001b[0m\n\u001b[0;32m   1465\u001b[0m \u001b[38;5;28;01mif\u001b[39;00m blk\u001b[38;5;241m.\u001b[39mis_object:\n\u001b[0;32m   1466\u001b[0m     \u001b[38;5;66;03m# split on object-dtype blocks bc some columns may raise\u001b[39;00m\n\u001b[0;32m   1467\u001b[0m     \u001b[38;5;66;03m#  while others do not.\u001b[39;00m\n\u001b[0;32m   1468\u001b[0m     \u001b[38;5;28;01mfor\u001b[39;00m sb \u001b[38;5;129;01min\u001b[39;00m blk\u001b[38;5;241m.\u001b[39m_split():\n\u001b[1;32m-> 1469\u001b[0m         applied \u001b[38;5;241m=\u001b[39m sb\u001b[38;5;241m.\u001b[39mapply(func)\n\u001b[0;32m   1470\u001b[0m         result_blocks \u001b[38;5;241m=\u001b[39m extend_blocks(applied, result_blocks)\n\u001b[0;32m   1471\u001b[0m \u001b[38;5;28;01melse\u001b[39;00m:\n",
      "File \u001b[1;32mE:\\Program\\Anaconda\\Lib\\site-packages\\pandas\\core\\internals\\blocks.py:393\u001b[0m, in \u001b[0;36mBlock.apply\u001b[1;34m(self, func, **kwargs)\u001b[0m\n\u001b[0;32m    387\u001b[0m \u001b[38;5;129m@final\u001b[39m\n\u001b[0;32m    388\u001b[0m \u001b[38;5;28;01mdef\u001b[39;00m \u001b[38;5;21mapply\u001b[39m(\u001b[38;5;28mself\u001b[39m, func, \u001b[38;5;241m*\u001b[39m\u001b[38;5;241m*\u001b[39mkwargs) \u001b[38;5;241m-\u001b[39m\u001b[38;5;241m>\u001b[39m \u001b[38;5;28mlist\u001b[39m[Block]:\n\u001b[0;32m    389\u001b[0m \u001b[38;5;250m    \u001b[39m\u001b[38;5;124;03m\"\"\"\u001b[39;00m\n\u001b[0;32m    390\u001b[0m \u001b[38;5;124;03m    apply the function to my values; return a block if we are not\u001b[39;00m\n\u001b[0;32m    391\u001b[0m \u001b[38;5;124;03m    one\u001b[39;00m\n\u001b[0;32m    392\u001b[0m \u001b[38;5;124;03m    \"\"\"\u001b[39;00m\n\u001b[1;32m--> 393\u001b[0m     result \u001b[38;5;241m=\u001b[39m func(\u001b[38;5;28mself\u001b[39m\u001b[38;5;241m.\u001b[39mvalues, \u001b[38;5;241m*\u001b[39m\u001b[38;5;241m*\u001b[39mkwargs)\n\u001b[0;32m    395\u001b[0m     result \u001b[38;5;241m=\u001b[39m maybe_coerce_values(result)\n\u001b[0;32m    396\u001b[0m     \u001b[38;5;28;01mreturn\u001b[39;00m \u001b[38;5;28mself\u001b[39m\u001b[38;5;241m.\u001b[39m_split_op_result(result)\n",
      "File \u001b[1;32mE:\\Program\\Anaconda\\Lib\\site-packages\\pandas\\core\\groupby\\groupby.py:1995\u001b[0m, in \u001b[0;36mGroupBy._cython_agg_general.<locals>.array_func\u001b[1;34m(values)\u001b[0m\n\u001b[0;32m   1992\u001b[0m     \u001b[38;5;28;01mreturn\u001b[39;00m result\n\u001b[0;32m   1994\u001b[0m \u001b[38;5;28;01massert\u001b[39;00m alt \u001b[38;5;129;01mis\u001b[39;00m \u001b[38;5;129;01mnot\u001b[39;00m \u001b[38;5;28;01mNone\u001b[39;00m\n\u001b[1;32m-> 1995\u001b[0m result \u001b[38;5;241m=\u001b[39m \u001b[38;5;28mself\u001b[39m\u001b[38;5;241m.\u001b[39m_agg_py_fallback(how, values, ndim\u001b[38;5;241m=\u001b[39mdata\u001b[38;5;241m.\u001b[39mndim, alt\u001b[38;5;241m=\u001b[39malt)\n\u001b[0;32m   1996\u001b[0m \u001b[38;5;28;01mreturn\u001b[39;00m result\n",
      "File \u001b[1;32mE:\\Program\\Anaconda\\Lib\\site-packages\\pandas\\core\\groupby\\groupby.py:1946\u001b[0m, in \u001b[0;36mGroupBy._agg_py_fallback\u001b[1;34m(self, how, values, ndim, alt)\u001b[0m\n\u001b[0;32m   1944\u001b[0m     msg \u001b[38;5;241m=\u001b[39m \u001b[38;5;124mf\u001b[39m\u001b[38;5;124m\"\u001b[39m\u001b[38;5;124magg function failed [how->\u001b[39m\u001b[38;5;132;01m{\u001b[39;00mhow\u001b[38;5;132;01m}\u001b[39;00m\u001b[38;5;124m,dtype->\u001b[39m\u001b[38;5;132;01m{\u001b[39;00mser\u001b[38;5;241m.\u001b[39mdtype\u001b[38;5;132;01m}\u001b[39;00m\u001b[38;5;124m]\u001b[39m\u001b[38;5;124m\"\u001b[39m\n\u001b[0;32m   1945\u001b[0m     \u001b[38;5;66;03m# preserve the kind of exception that raised\u001b[39;00m\n\u001b[1;32m-> 1946\u001b[0m     \u001b[38;5;28;01mraise\u001b[39;00m \u001b[38;5;28mtype\u001b[39m(err)(msg) \u001b[38;5;28;01mfrom\u001b[39;00m \u001b[38;5;21;01merr\u001b[39;00m\n\u001b[0;32m   1948\u001b[0m \u001b[38;5;28;01mif\u001b[39;00m ser\u001b[38;5;241m.\u001b[39mdtype \u001b[38;5;241m==\u001b[39m \u001b[38;5;28mobject\u001b[39m:\n\u001b[0;32m   1949\u001b[0m     res_values \u001b[38;5;241m=\u001b[39m res_values\u001b[38;5;241m.\u001b[39mastype(\u001b[38;5;28mobject\u001b[39m, copy\u001b[38;5;241m=\u001b[39m\u001b[38;5;28;01mFalse\u001b[39;00m)\n",
      "\u001b[1;31mTypeError\u001b[0m: agg function failed [how->mean,dtype->object]"
     ]
    }
   ],
   "source": [
    "# Pivot the DataFrame to create a heatmap\n",
    "heatmap_data = train_data.pivot_table('ID', 'Rating')\n",
    "\n",
    "# Create the heatmap\n",
    "plt.figure(figsize=(8, 6))\n",
    "sns.heatmap(heatmap_data, annot=True, fmt='g', cmap='coolwarm', cbar=True)\n",
    "plt.title('Heatmap of User Ratings')\n",
    "plt.xlabel('Ratings')\n",
    "plt.ylabel('User ID')\n",
    "plt.show()"
   ]
  },
  {
   "cell_type": "code",
   "execution_count": 67,
   "id": "ab7bc904",
   "metadata": {},
   "outputs": [
    {
     "data": {
      "image/png": "[encoded data removed]",
      "text/plain": [
       "<Figure size 1200x500 with 2 Axes>"
      ]
     },
     "metadata": {},
     "output_type": "display_data"
    }
   ],
   "source": [
    "# Distribution of interactions\n",
    "plt.figure(figsize=(12, 5))\n",
    "plt.subplot(1, 2, 1)\n",
    "train_data['ID'].value_counts().hist(bins=10, edgecolor='k')\n",
    "plt.xlabel('Interactions per User')\n",
    "plt.ylabel('Number of Users')\n",
    "plt.title('Distribution of Interactions per User')\n",
    "\n",
    "plt.subplot(1, 2, 2)\n",
    "train_data['ProdID'].value_counts().hist(bins=10, edgecolor='k',color='green')\n",
    "plt.xlabel('Interactions per Item')\n",
    "plt.ylabel('Number of Items')\n",
    "plt.title('Distribution of Interactions per Item')\n",
    "\n",
    "plt.tight_layout()\n",
    "plt.show()"
   ]
  },
  {
   "cell_type": "code",
   "execution_count": 49,
   "id": "6d330260",
   "metadata": {},
   "outputs": [
    {
     "data": {
      "text/plain": [
       "Text(0.5, 1.0, 'Most Popular items')"
      ]
     },
     "execution_count": 49,
     "metadata": {},
     "output_type": "execute_result"
    },
    {
     "data": {
      "image/png": "[encoded data removed]",
      "text/plain": [
       "<Figure size 640x480 with 1 Axes>"
      ]
     },
     "metadata": {},
     "output_type": "display_data"
    }
   ],
   "source": [
    "# Most popular items\n",
    "popular_items = train_data['ProdID'].value_counts().head(5)\n",
    "popular_items.plot(kind='bar',color='red')\n",
    "plt.title(\"Most Popular items\")"
   ]
  },
  {
   "cell_type": "code",
   "execution_count": 50,
   "id": "b9b8df99",
   "metadata": {
    "scrolled": true
   },
   "outputs": [
    {
     "data": {
      "text/plain": [
       "<Axes: xlabel='Rating'>"
      ]
     },
     "execution_count": 50,
     "metadata": {},
     "output_type": "execute_result"
    },
    {
     "data": {
      "image/png": "[encoded data removed]",
      "text/plain": [
       "<Figure size 640x480 with 1 Axes>"
      ]
     },
     "metadata": {},
     "output_type": "display_data"
    }
   ],
   "source": [
    "# most rated counts\n",
    "train_data['Rating'].value_counts().plot(kind='bar',color='red')"
   ]
  },
  {
   "cell_type": "raw",
   "id": "c7b2cf34",
   "metadata": {},
   "source": [
    "# Step 2: EDA (Exploratory Data Analysis)"
   ]
  },
  {
   "cell_type": "markdown",
   "id": "dfec3404",
   "metadata": {},
   "source": [
    "# Step 3: Data Cleaning and Tags Creations"
   ]
  },
  {
   "cell_type": "code",
   "execution_count": 52,
   "id": "c16cf5b9",
   "metadata": {},
   "outputs": [
    {
     "name": "stdout",
     "output_type": "stream",
     "text": [
      "E:\\Program\\Anaconda\\python.exe\n"
     ]
    }
   ],
   "source": [
    "import spacy\n",
    "from spacy.lang.en.stop_words import STOP_WORDS\n",
    "import sys\n",
    "print(sys.executable)\n",
    "nlp = spacy.load('en_core_web_sm')\n",
    "\n",
    "def clean_and_extract_tags(text):\n",
    "    doc = nlp(text.lower())\n",
    "    tags = [token.text for token in doc if token.text.isalnum() and token.text not in STOP_WORDS]\n",
    "    return ', '.join(tags)\n",
    "\n",
    "columns_to_extract_tags_from = ['Category', 'Brand', 'Description']\n",
    "\n",
    "for column in columns_to_extract_tags_from:\n",
    "    train_data[column] = train_data[column].apply(clean_and_extract_tags)"
   ]
  },
  {
   "cell_type": "code",
   "execution_count": 53,
   "id": "c8ae69c5",
   "metadata": {},
   "outputs": [],
   "source": [
    "# Concatenate the cleaned tags from all relevant columns\n",
    "train_data['Tags'] = train_data[columns_to_extract_tags_from].apply(lambda row: ', '.join(row), axis=1)"
   ]
  },
  {
   "cell_type": "markdown",
   "id": "844cf03c",
   "metadata": {},
   "source": [
    "# Rating Base Recommendations System"
   ]
  },
  {
   "cell_type": "code",
   "execution_count": 55,
   "id": "0e17cab4",
   "metadata": {},
   "outputs": [],
   "source": [
    "average_ratings = train_data.groupby(['Name','ReviewCount','Brand','ImageURL'])['Rating'].mean().reset_index()"
   ]
  },
  {
   "cell_type": "code",
   "execution_count": 56,
   "id": "9bdb9c42",
   "metadata": {},
   "outputs": [],
   "source": [
    "top_rated_items = average_ratings.sort_values(by='Rating', ascending=False)\n",
    "\n",
    "rating_base_recommendation = top_rated_items.head(10)"
   ]
  },
  {
   "cell_type": "code",
   "execution_count": 57,
   "id": "dbd775cb",
   "metadata": {},
   "outputs": [
    {
     "name": "stderr",
     "output_type": "stream",
     "text": [
      "C:\\Users\\Dell\\AppData\\Local\\Temp\\ipykernel_29368\\565725879.py:1: SettingWithCopyWarning: \n",
      "A value is trying to be set on a copy of a slice from a DataFrame.\n",
      "Try using .loc[row_indexer,col_indexer] = value instead\n",
      "\n",
      "See the caveats in the documentation: https://pandas.pydata.org/pandas-docs/stable/user_guide/indexing.html#returning-a-view-versus-a-copy\n",
      "  rating_base_recommendation['Rating'] = rating_base_recommendation['Rating'].astype(int)\n",
      "C:\\Users\\Dell\\AppData\\Local\\Temp\\ipykernel_29368\\565725879.py:2: SettingWithCopyWarning: \n",
      "A value is trying to be set on a copy of a slice from a DataFrame.\n",
      "Try using .loc[row_indexer,col_indexer] = value instead\n",
      "\n",
      "See the caveats in the documentation: https://pandas.pydata.org/pandas-docs/stable/user_guide/indexing.html#returning-a-view-versus-a-copy\n",
      "  rating_base_recommendation['ReviewCount'] = rating_base_recommendation['ReviewCount'].astype(int)\n"
     ]
    }
   ],
   "source": [
    "rating_base_recommendation['Rating'] = rating_base_recommendation['Rating'].astype(int)\n",
    "rating_base_recommendation['ReviewCount'] = rating_base_recommendation['ReviewCount'].astype(int)"
   ]
  },
  {
   "cell_type": "code",
   "execution_count": 58,
   "id": "eeefbc7b",
   "metadata": {},
   "outputs": [
    {
     "name": "stdout",
     "output_type": "stream",
     "text": [
      "Rating Base Recommendation System: (Trending Products)\n"
     ]
    },
    {
     "name": "stderr",
     "output_type": "stream",
     "text": [
      "C:\\Users\\Dell\\AppData\\Local\\Temp\\ipykernel_29368\\393183274.py:2: SettingWithCopyWarning: \n",
      "A value is trying to be set on a copy of a slice from a DataFrame.\n",
      "Try using .loc[row_indexer,col_indexer] = value instead\n",
      "\n",
      "See the caveats in the documentation: https://pandas.pydata.org/pandas-docs/stable/user_guide/indexing.html#returning-a-view-versus-a-copy\n",
      "  rating_base_recommendation[['Name','Rating','ReviewCount','Brand','ImageURL']] = rating_base_recommendation[['Name','Rating','ReviewCount','Brand','ImageURL']]\n"
     ]
    },
    {
     "data": {
      "text/html": [
       "<div>\n",
       "<style scoped>\n",
       "    .dataframe tbody tr th:only-of-type {\n",
       "        vertical-align: middle;\n",
       "    }\n",
       "\n",
       "    .dataframe tbody tr th {\n",
       "        vertical-align: top;\n",
       "    }\n",
       "\n",
       "    .dataframe thead th {\n",
       "        text-align: right;\n",
       "    }\n",
       "</style>\n",
       "<table border=\"1\" class=\"dataframe\">\n",
       "  <thead>\n",
       "    <tr style=\"text-align: right;\">\n",
       "      <th></th>\n",
       "      <th>Name</th>\n",
       "      <th>ReviewCount</th>\n",
       "      <th>Brand</th>\n",
       "      <th>ImageURL</th>\n",
       "      <th>Rating</th>\n",
       "    </tr>\n",
       "  </thead>\n",
       "  <tbody>\n",
       "    <tr>\n",
       "      <th>1686</th>\n",
       "      <td>Electric Shaver, Triple Shaving Time Electric ...</td>\n",
       "      <td>4</td>\n",
       "      <td>moosoo</td>\n",
       "      <td>https://i5.walmartimages.com/asr/e7dcd553-90df...</td>\n",
       "      <td>5</td>\n",
       "    </tr>\n",
       "    <tr>\n",
       "      <th>526</th>\n",
       "      <td>Alaffia Body Lotion, Vanilla, 32 Oz</td>\n",
       "      <td>2</td>\n",
       "      <td>alaffia</td>\n",
       "      <td>https://i5.walmartimages.com/asr/2988c323-cb6f...</td>\n",
       "      <td>5</td>\n",
       "    </tr>\n",
       "    <tr>\n",
       "      <th>2053</th>\n",
       "      <td>Gold Bond Ultimate Ultimate Healing Lotion, Al...</td>\n",
       "      <td>2</td>\n",
       "      <td>gold, bond</td>\n",
       "      <td>https://i5.walmartimages.com/asr/34b610e7-05db...</td>\n",
       "      <td>5</td>\n",
       "    </tr>\n",
       "    <tr>\n",
       "      <th>4716</th>\n",
       "      <td>Versace Man Eau Fraiche Eau De Toilette Spray,...</td>\n",
       "      <td>24</td>\n",
       "      <td>versace</td>\n",
       "      <td>https://i5.walmartimages.com/asr/edaaeed5-9da0...</td>\n",
       "      <td>5</td>\n",
       "    </tr>\n",
       "    <tr>\n",
       "      <th>2058</th>\n",
       "      <td>Goldwell StyleSign 1 Flat Marvel Straightening...</td>\n",
       "      <td>2</td>\n",
       "      <td>goldwell</td>\n",
       "      <td>https://i5.walmartimages.com/asr/3bf90289-6980...</td>\n",
       "      <td>5</td>\n",
       "    </tr>\n",
       "    <tr>\n",
       "      <th>3842</th>\n",
       "      <td>Red Devil 0322 Steel Wool # 00 Very Fine, 8 Pa...</td>\n",
       "      <td>1</td>\n",
       "      <td>red, devil</td>\n",
       "      <td>https://i5.walmartimages.com/asr/60bfe5ba-774c...</td>\n",
       "      <td>5</td>\n",
       "    </tr>\n",
       "    <tr>\n",
       "      <th>510</th>\n",
       "      <td>Air Wick Plug in Starter Kit, Warmer + 1 Refil...</td>\n",
       "      <td>1</td>\n",
       "      <td>air, wick</td>\n",
       "      <td>https://i5.walmartimages.com/asr/0fac65b2-c6aa...</td>\n",
       "      <td>5</td>\n",
       "    </tr>\n",
       "    <tr>\n",
       "      <th>3841</th>\n",
       "      <td>Recovery Complex Anti-Frizz Shine Serum by Bai...</td>\n",
       "      <td>4</td>\n",
       "      <td>bain, de, terre</td>\n",
       "      <td>https://i5.walmartimages.com/asr/fcdb4d2e-3727...</td>\n",
       "      <td>5</td>\n",
       "    </tr>\n",
       "    <tr>\n",
       "      <th>2687</th>\n",
       "      <td>Long Aid Extra Dry Formula Curl Activator Gel ...</td>\n",
       "      <td>12</td>\n",
       "      <td>long, aid</td>\n",
       "      <td>https://i5.walmartimages.com/asr/f7f29199-bfa5...</td>\n",
       "      <td>5</td>\n",
       "    </tr>\n",
       "    <tr>\n",
       "      <th>2062</th>\n",
       "      <td>Good Sense 60-Day Air Care System, Citrus, 2 o...</td>\n",
       "      <td>1</td>\n",
       "      <td>diversey</td>\n",
       "      <td>https://i5.walmartimages.com/asr/025a7068-7bb1...</td>\n",
       "      <td>5</td>\n",
       "    </tr>\n",
       "  </tbody>\n",
       "</table>\n",
       "</div>"
      ],
      "text/plain": [
       "                                                   Name  ReviewCount  \\\n",
       "1686  Electric Shaver, Triple Shaving Time Electric ...            4   \n",
       "526                 Alaffia Body Lotion, Vanilla, 32 Oz            2   \n",
       "2053  Gold Bond Ultimate Ultimate Healing Lotion, Al...            2   \n",
       "4716  Versace Man Eau Fraiche Eau De Toilette Spray,...           24   \n",
       "2058  Goldwell StyleSign 1 Flat Marvel Straightening...            2   \n",
       "3842  Red Devil 0322 Steel Wool # 00 Very Fine, 8 Pa...            1   \n",
       "510   Air Wick Plug in Starter Kit, Warmer + 1 Refil...            1   \n",
       "3841  Recovery Complex Anti-Frizz Shine Serum by Bai...            4   \n",
       "2687  Long Aid Extra Dry Formula Curl Activator Gel ...           12   \n",
       "2062  Good Sense 60-Day Air Care System, Citrus, 2 o...            1   \n",
       "\n",
       "                Brand                                           ImageURL  \\\n",
       "1686           moosoo  https://i5.walmartimages.com/asr/e7dcd553-90df...   \n",
       "526           alaffia  https://i5.walmartimages.com/asr/2988c323-cb6f...   \n",
       "2053       gold, bond  https://i5.walmartimages.com/asr/34b610e7-05db...   \n",
       "4716          versace  https://i5.walmartimages.com/asr/edaaeed5-9da0...   \n",
       "2058         goldwell  https://i5.walmartimages.com/asr/3bf90289-6980...   \n",
       "3842       red, devil  https://i5.walmartimages.com/asr/60bfe5ba-774c...   \n",
       "510         air, wick  https://i5.walmartimages.com/asr/0fac65b2-c6aa...   \n",
       "3841  bain, de, terre  https://i5.walmartimages.com/asr/fcdb4d2e-3727...   \n",
       "2687        long, aid  https://i5.walmartimages.com/asr/f7f29199-bfa5...   \n",
       "2062         diversey  https://i5.walmartimages.com/asr/025a7068-7bb1...   \n",
       "\n",
       "      Rating  \n",
       "1686       5  \n",
       "526        5  \n",
       "2053       5  \n",
       "4716       5  \n",
       "2058       5  \n",
       "3842       5  \n",
       "510        5  \n",
       "3841       5  \n",
       "2687       5  \n",
       "2062       5  "
      ]
     },
     "execution_count": 58,
     "metadata": {},
     "output_type": "execute_result"
    }
   ],
   "source": [
    "print(\"Rating Base Recommendation System: (Trending Products)\")\n",
    "rating_base_recommendation[['Name','Rating','ReviewCount','Brand','ImageURL']] = rating_base_recommendation[['Name','Rating','ReviewCount','Brand','ImageURL']]\n",
    "rating_base_recommendation"
   ]
  },
  {
   "cell_type": "markdown",
   "id": "d6c86fcf",
   "metadata": {},
   "source": [
    "# Content Base Recommendation system (User Preferences or Items similarities)"
   ]
  },
  {
   "cell_type": "code",
   "execution_count": 60,
   "id": "79cc6f25",
   "metadata": {},
   "outputs": [],
   "source": [
    "from sklearn.feature_extraction.text import TfidfVectorizer\n",
    "from sklearn.metrics.pairwise import cosine_similarity\n",
    "\n",
    "tfidf_vectorizer = TfidfVectorizer(stop_words='english')\n",
    "tfidf_matrix_content = tfidf_vectorizer.fit_transform(train_data['Tags'])\n",
    "cosine_similarities_content = cosine_similarity(tfidf_matrix_content,tfidf_matrix_content)"
   ]
  },
  {
   "cell_type": "code",
   "execution_count": 61,
   "id": "91457320",
   "metadata": {},
   "outputs": [],
   "source": [
    "item_name = 'OPI Infinite Shine, Nail Lacquer Nail Polish, Bubble Bath'\n",
    "item_index = train_data[train_data['Name']==item_name].index[0]"
   ]
  },
  {
   "cell_type": "code",
   "execution_count": 62,
   "id": "e763a44d",
   "metadata": {},
   "outputs": [],
   "source": [
    "similar_items = list(enumerate(cosine_similarities_content[item_index]))"
   ]
  },
  {
   "cell_type": "code",
   "execution_count": 63,
   "id": "2066dd9c",
   "metadata": {},
   "outputs": [],
   "source": [
    "similar_items = sorted(similar_items, key=lambda x:x[1], reverse=True)\n",
    "top_similar_items = similar_items[1:10]\n",
    "\n",
    "recommended_items_indics = [x[0] for x in top_similar_items]"
   ]
  },
  {
   "cell_type": "code",
   "execution_count": 64,
   "id": "b1067a13-2fff-4fc5-b55e-1c78ba537845",
   "metadata": {},
   "outputs": [
    {
     "data": {
      "text/html": [
       "<div>\n",
       "<style scoped>\n",
       "    .dataframe tbody tr th:only-of-type {\n",
       "        vertical-align: middle;\n",
       "    }\n",
       "\n",
       "    .dataframe tbody tr th {\n",
       "        vertical-align: top;\n",
       "    }\n",
       "\n",
       "    .dataframe thead th {\n",
       "        text-align: right;\n",
       "    }\n",
       "</style>\n",
       "<table border=\"1\" class=\"dataframe\">\n",
       "  <thead>\n",
       "    <tr style=\"text-align: right;\">\n",
       "      <th></th>\n",
       "      <th>Name</th>\n",
       "      <th>ReviewCount</th>\n",
       "      <th>Brand</th>\n",
       "    </tr>\n",
       "  </thead>\n",
       "  <tbody>\n",
       "    <tr>\n",
       "      <th>156</th>\n",
       "      <td>OPI Nail Lacquer Polish .5oz/15mL - This Gown ...</td>\n",
       "      <td>0.0</td>\n",
       "      <td>opi</td>\n",
       "    </tr>\n",
       "    <tr>\n",
       "      <th>184</th>\n",
       "      <td>OPI Nail Gel Polish GelColor .5oz/15mL 3 CT Co...</td>\n",
       "      <td>0.0</td>\n",
       "      <td>opi</td>\n",
       "    </tr>\n",
       "    <tr>\n",
       "      <th>205</th>\n",
       "      <td>OPI Nail Lacquer - Dont Bossa Nova Me Around -...</td>\n",
       "      <td>0.0</td>\n",
       "      <td>opi</td>\n",
       "    </tr>\n",
       "    <tr>\n",
       "      <th>237</th>\n",
       "      <td>OPI Infinite Shine 2 Polish - ISL P33 - Alpaca...</td>\n",
       "      <td>5.0</td>\n",
       "      <td>opi</td>\n",
       "    </tr>\n",
       "    <tr>\n",
       "      <th>325</th>\n",
       "      <td>OPI Gel Polish Fall 2019 Scotland Collection G...</td>\n",
       "      <td>1.0</td>\n",
       "      <td>opi</td>\n",
       "    </tr>\n",
       "    <tr>\n",
       "      <th>375</th>\n",
       "      <td>OPI Nail Gel Polish GelColor .5oz/15mL 3 CT Co...</td>\n",
       "      <td>1.0</td>\n",
       "      <td>opi</td>\n",
       "    </tr>\n",
       "    <tr>\n",
       "      <th>402</th>\n",
       "      <td>OPI Nail Polish, Strawberry Margarita, 0.5 Fl Oz</td>\n",
       "      <td>57.0</td>\n",
       "      <td>opi</td>\n",
       "    </tr>\n",
       "    <tr>\n",
       "      <th>706</th>\n",
       "      <td>OPI Nail Gel Polish GelColor .5oz/15mL 3 CT Co...</td>\n",
       "      <td>1.0</td>\n",
       "      <td>opi</td>\n",
       "    </tr>\n",
       "    <tr>\n",
       "      <th>886</th>\n",
       "      <td>OPI- Nail Lacquer-GelColor - &amp;quotLiv&amp;quotin t...</td>\n",
       "      <td>0.0</td>\n",
       "      <td>opi</td>\n",
       "    </tr>\n",
       "  </tbody>\n",
       "</table>\n",
       "</div>"
      ],
      "text/plain": [
       "                                                  Name  ReviewCount Brand\n",
       "156  OPI Nail Lacquer Polish .5oz/15mL - This Gown ...          0.0   opi\n",
       "184  OPI Nail Gel Polish GelColor .5oz/15mL 3 CT Co...          0.0   opi\n",
       "205  OPI Nail Lacquer - Dont Bossa Nova Me Around -...          0.0   opi\n",
       "237  OPI Infinite Shine 2 Polish - ISL P33 - Alpaca...          5.0   opi\n",
       "325  OPI Gel Polish Fall 2019 Scotland Collection G...          1.0   opi\n",
       "375  OPI Nail Gel Polish GelColor .5oz/15mL 3 CT Co...          1.0   opi\n",
       "402   OPI Nail Polish, Strawberry Margarita, 0.5 Fl Oz         57.0   opi\n",
       "706  OPI Nail Gel Polish GelColor .5oz/15mL 3 CT Co...          1.0   opi\n",
       "886  OPI- Nail Lacquer-GelColor - &quotLiv&quotin t...          0.0   opi"
      ]
     },
     "execution_count": 64,
     "metadata": {},
     "output_type": "execute_result"
    }
   ],
   "source": [
    "train_data.iloc[recommended_items_indics][['Name','ReviewCount','Brand']]"
   ]
  },
  {
   "cell_type": "markdown",
   "id": "6d143b78",
   "metadata": {},
   "source": [
    "# Function To Recommend Products for Content Base"
   ]
  },
  {
   "cell_type": "code",
   "execution_count": 66,
   "id": "06226aae",
   "metadata": {},
   "outputs": [],
   "source": [
    "from sklearn.feature_extraction.text import TfidfVectorizer\n",
    "from sklearn.metrics.pairwise import cosine_similarity\n",
    "\n",
    "def content_based_recommendations(train_data, item_name, top_n=10):\n",
    "    # Check if the item name exists in the training data\n",
    "    if item_name not in train_data['Name'].values:\n",
    "        print(f\"Item '{item_name}' not found in the training data.\")\n",
    "        return pd.DataFrame()\n",
    "\n",
    "    # Create a TF-IDF vectorizer for item descriptions\n",
    "    tfidf_vectorizer = TfidfVectorizer(stop_words='english')\n",
    "\n",
    "    # Apply TF-IDF vectorization to item descriptions\n",
    "    tfidf_matrix_content = tfidf_vectorizer.fit_transform(train_data['Tags'])\n",
    "\n",
    "    # Calculate cosine similarity between items based on descriptions\n",
    "    cosine_similarities_content = cosine_similarity(tfidf_matrix_content, tfidf_matrix_content)\n",
    "\n",
    "    # Find the index of the item\n",
    "    item_index = train_data[train_data['Name'] == item_name].index[0]\n",
    "\n",
    "    # Get the cosine similarity scores for the item\n",
    "    similar_items = list(enumerate(cosine_similarities_content[item_index]))\n",
    "\n",
    "    # Sort similar items by similarity score in descending order\n",
    "    similar_items = sorted(similar_items, key=lambda x: x[1], reverse=True)\n",
    "\n",
    "    # Get the top N most similar items (excluding the item itself)\n",
    "    top_similar_items = similar_items[1:top_n+1]\n",
    "\n",
    "    # Get the indices of the top similar items\n",
    "    recommended_item_indices = [x[0] for x in top_similar_items]\n",
    "\n",
    "    # Get the details of the top similar items\n",
    "    recommended_items_details = train_data.iloc[recommended_item_indices][['Name', 'ReviewCount', 'Brand', 'ImageURL', 'Rating']]\n",
    "\n",
    "    return recommended_items_details"
   ]
  },
  {
   "cell_type": "code",
   "execution_count": 67,
   "id": "d9d95dce",
   "metadata": {},
   "outputs": [
    {
     "data": {
      "text/html": [
       "<div>\n",
       "<style scoped>\n",
       "    .dataframe tbody tr th:only-of-type {\n",
       "        vertical-align: middle;\n",
       "    }\n",
       "\n",
       "    .dataframe tbody tr th {\n",
       "        vertical-align: top;\n",
       "    }\n",
       "\n",
       "    .dataframe thead th {\n",
       "        text-align: right;\n",
       "    }\n",
       "</style>\n",
       "<table border=\"1\" class=\"dataframe\">\n",
       "  <thead>\n",
       "    <tr style=\"text-align: right;\">\n",
       "      <th></th>\n",
       "      <th>Name</th>\n",
       "      <th>ReviewCount</th>\n",
       "      <th>Brand</th>\n",
       "      <th>ImageURL</th>\n",
       "      <th>Rating</th>\n",
       "    </tr>\n",
       "  </thead>\n",
       "  <tbody>\n",
       "    <tr>\n",
       "      <th>156</th>\n",
       "      <td>OPI Nail Lacquer Polish .5oz/15mL - This Gown ...</td>\n",
       "      <td>0.0</td>\n",
       "      <td>opi</td>\n",
       "      <td>https://i5.walmartimages.com/asr/71caed3f-5f83...</td>\n",
       "      <td>0.0</td>\n",
       "    </tr>\n",
       "    <tr>\n",
       "      <th>184</th>\n",
       "      <td>OPI Nail Gel Polish GelColor .5oz/15mL 3 CT Co...</td>\n",
       "      <td>0.0</td>\n",
       "      <td>opi</td>\n",
       "      <td>https://i5.walmartimages.com/asr/2d6f5147-53a8...</td>\n",
       "      <td>0.0</td>\n",
       "    </tr>\n",
       "    <tr>\n",
       "      <th>205</th>\n",
       "      <td>OPI Nail Lacquer - Dont Bossa Nova Me Around -...</td>\n",
       "      <td>0.0</td>\n",
       "      <td>opi</td>\n",
       "      <td>https://i5.walmartimages.com/asr/fd1195d2-8d8d...</td>\n",
       "      <td>0.0</td>\n",
       "    </tr>\n",
       "    <tr>\n",
       "      <th>237</th>\n",
       "      <td>OPI Infinite Shine 2 Polish - ISL P33 - Alpaca...</td>\n",
       "      <td>5.0</td>\n",
       "      <td>opi</td>\n",
       "      <td>https://i5.walmartimages.com/asr/7426eb5c-1690...</td>\n",
       "      <td>0.0</td>\n",
       "    </tr>\n",
       "    <tr>\n",
       "      <th>325</th>\n",
       "      <td>OPI Gel Polish Fall 2019 Scotland Collection G...</td>\n",
       "      <td>1.0</td>\n",
       "      <td>opi</td>\n",
       "      <td>https://i5.walmartimages.com/asr/79bbbd9f-9a89...</td>\n",
       "      <td>0.0</td>\n",
       "    </tr>\n",
       "    <tr>\n",
       "      <th>375</th>\n",
       "      <td>OPI Nail Gel Polish GelColor .5oz/15mL 3 CT Co...</td>\n",
       "      <td>1.0</td>\n",
       "      <td>opi</td>\n",
       "      <td>https://i5.walmartimages.com/asr/744e869c-3500...</td>\n",
       "      <td>5.0</td>\n",
       "    </tr>\n",
       "    <tr>\n",
       "      <th>402</th>\n",
       "      <td>OPI Nail Polish, Strawberry Margarita, 0.5 Fl Oz</td>\n",
       "      <td>57.0</td>\n",
       "      <td>opi</td>\n",
       "      <td>https://i5.walmartimages.com/asr/b95676e5-96ab...</td>\n",
       "      <td>4.4</td>\n",
       "    </tr>\n",
       "    <tr>\n",
       "      <th>706</th>\n",
       "      <td>OPI Nail Gel Polish GelColor .5oz/15mL 3 CT Co...</td>\n",
       "      <td>1.0</td>\n",
       "      <td>opi</td>\n",
       "      <td>https://i5.walmartimages.com/asr/c7ba4815-52f7...</td>\n",
       "      <td>5.0</td>\n",
       "    </tr>\n",
       "  </tbody>\n",
       "</table>\n",
       "</div>"
      ],
      "text/plain": [
       "                                                  Name  ReviewCount Brand  \\\n",
       "156  OPI Nail Lacquer Polish .5oz/15mL - This Gown ...          0.0   opi   \n",
       "184  OPI Nail Gel Polish GelColor .5oz/15mL 3 CT Co...          0.0   opi   \n",
       "205  OPI Nail Lacquer - Dont Bossa Nova Me Around -...          0.0   opi   \n",
       "237  OPI Infinite Shine 2 Polish - ISL P33 - Alpaca...          5.0   opi   \n",
       "325  OPI Gel Polish Fall 2019 Scotland Collection G...          1.0   opi   \n",
       "375  OPI Nail Gel Polish GelColor .5oz/15mL 3 CT Co...          1.0   opi   \n",
       "402   OPI Nail Polish, Strawberry Margarita, 0.5 Fl Oz         57.0   opi   \n",
       "706  OPI Nail Gel Polish GelColor .5oz/15mL 3 CT Co...          1.0   opi   \n",
       "\n",
       "                                              ImageURL  Rating  \n",
       "156  https://i5.walmartimages.com/asr/71caed3f-5f83...     0.0  \n",
       "184  https://i5.walmartimages.com/asr/2d6f5147-53a8...     0.0  \n",
       "205  https://i5.walmartimages.com/asr/fd1195d2-8d8d...     0.0  \n",
       "237  https://i5.walmartimages.com/asr/7426eb5c-1690...     0.0  \n",
       "325  https://i5.walmartimages.com/asr/79bbbd9f-9a89...     0.0  \n",
       "375  https://i5.walmartimages.com/asr/744e869c-3500...     5.0  \n",
       "402  https://i5.walmartimages.com/asr/b95676e5-96ab...     4.4  \n",
       "706  https://i5.walmartimages.com/asr/c7ba4815-52f7...     5.0  "
      ]
     },
     "execution_count": 67,
     "metadata": {},
     "output_type": "execute_result"
    }
   ],
   "source": [
    "# Example: Get content-based recommendations for a specific item\n",
    "item_name = 'OPI Infinite Shine, Nail Lacquer Nail Polish, Bubble Bath'\n",
    "content_based_rec = content_based_recommendations(train_data, item_name, top_n=8)\n",
    "\n",
    "content_based_rec"
   ]
  },
  {
   "cell_type": "code",
   "execution_count": 68,
   "id": "04ebc5a6",
   "metadata": {},
   "outputs": [
    {
     "data": {
      "text/html": [
       "<div>\n",
       "<style scoped>\n",
       "    .dataframe tbody tr th:only-of-type {\n",
       "        vertical-align: middle;\n",
       "    }\n",
       "\n",
       "    .dataframe tbody tr th {\n",
       "        vertical-align: top;\n",
       "    }\n",
       "\n",
       "    .dataframe thead th {\n",
       "        text-align: right;\n",
       "    }\n",
       "</style>\n",
       "<table border=\"1\" class=\"dataframe\">\n",
       "  <thead>\n",
       "    <tr style=\"text-align: right;\">\n",
       "      <th></th>\n",
       "      <th>Name</th>\n",
       "      <th>ReviewCount</th>\n",
       "      <th>Brand</th>\n",
       "      <th>ImageURL</th>\n",
       "      <th>Rating</th>\n",
       "    </tr>\n",
       "  </thead>\n",
       "  <tbody>\n",
       "    <tr>\n",
       "      <th>3406</th>\n",
       "      <td>Kokie Professional Matte Lipstick, Firecracker...</td>\n",
       "      <td>0.0</td>\n",
       "      <td>kokie, cosmetics</td>\n",
       "      <td>https://i5.walmartimages.com/asr/8312221b-ed22...</td>\n",
       "      <td>0.0</td>\n",
       "    </tr>\n",
       "    <tr>\n",
       "      <th>546</th>\n",
       "      <td>Kokie Professional Matte Lipstick, Kiss Me, 0....</td>\n",
       "      <td>0.0</td>\n",
       "      <td>kokie, cosmetics</td>\n",
       "      <td>https://i5.walmartimages.com/asr/27dd82a2-2b9c...</td>\n",
       "      <td>0.0</td>\n",
       "    </tr>\n",
       "    <tr>\n",
       "      <th>2406</th>\n",
       "      <td>L.A. Colors Matte Lipstick, Tender Matte</td>\n",
       "      <td>3.0</td>\n",
       "      <td>colors</td>\n",
       "      <td>https://i5.walmartimages.com/asr/271264fb-e8c3...</td>\n",
       "      <td>3.7</td>\n",
       "    </tr>\n",
       "    <tr>\n",
       "      <th>4050</th>\n",
       "      <td>Kokie Professional Lip Poudre Liquid Matte Liq...</td>\n",
       "      <td>7.0</td>\n",
       "      <td>kokie, cosmetics</td>\n",
       "      <td>https://i5.walmartimages.com/asr/fdd7498c-319f...</td>\n",
       "      <td>3.4</td>\n",
       "    </tr>\n",
       "    <tr>\n",
       "      <th>4084</th>\n",
       "      <td>e.l.f. Mad for Matte 4 Piece Lip Color Set</td>\n",
       "      <td>0.0</td>\n",
       "      <td>cosmetics</td>\n",
       "      <td>https://i5.walmartimages.com/asr/e2d30304-edc9...</td>\n",
       "      <td>0.0</td>\n",
       "    </tr>\n",
       "    <tr>\n",
       "      <th>1559</th>\n",
       "      <td>LOreal Paris Colour Riche Matte Lip Liner, Mat...</td>\n",
       "      <td>495.0</td>\n",
       "      <td>paris</td>\n",
       "      <td>https://i5.walmartimages.com/asr/baf97085-7231...</td>\n",
       "      <td>4.4</td>\n",
       "    </tr>\n",
       "    <tr>\n",
       "      <th>2873</th>\n",
       "      <td>Kokie Professional Lip Poudre Liquid Matte Liq...</td>\n",
       "      <td>7.0</td>\n",
       "      <td>kokie, cosmetics</td>\n",
       "      <td>https://i5.walmartimages.com/asr/31c99d9b-ea11...</td>\n",
       "      <td>3.4</td>\n",
       "    </tr>\n",
       "    <tr>\n",
       "      <th>3023</th>\n",
       "      <td>Be Matte Lipstick - Pink</td>\n",
       "      <td>2.0</td>\n",
       "      <td>city, color</td>\n",
       "      <td>https://i5.walmartimages.com/asr/4425a13e-085f...</td>\n",
       "      <td>3.0</td>\n",
       "    </tr>\n",
       "  </tbody>\n",
       "</table>\n",
       "</div>"
      ],
      "text/plain": [
       "                                                   Name  ReviewCount  \\\n",
       "3406  Kokie Professional Matte Lipstick, Firecracker...          0.0   \n",
       "546   Kokie Professional Matte Lipstick, Kiss Me, 0....          0.0   \n",
       "2406           L.A. Colors Matte Lipstick, Tender Matte          3.0   \n",
       "4050  Kokie Professional Lip Poudre Liquid Matte Liq...          7.0   \n",
       "4084         e.l.f. Mad for Matte 4 Piece Lip Color Set          0.0   \n",
       "1559  LOreal Paris Colour Riche Matte Lip Liner, Mat...        495.0   \n",
       "2873  Kokie Professional Lip Poudre Liquid Matte Liq...          7.0   \n",
       "3023                           Be Matte Lipstick - Pink          2.0   \n",
       "\n",
       "                 Brand                                           ImageURL  \\\n",
       "3406  kokie, cosmetics  https://i5.walmartimages.com/asr/8312221b-ed22...   \n",
       "546   kokie, cosmetics  https://i5.walmartimages.com/asr/27dd82a2-2b9c...   \n",
       "2406            colors  https://i5.walmartimages.com/asr/271264fb-e8c3...   \n",
       "4050  kokie, cosmetics  https://i5.walmartimages.com/asr/fdd7498c-319f...   \n",
       "4084         cosmetics  https://i5.walmartimages.com/asr/e2d30304-edc9...   \n",
       "1559             paris  https://i5.walmartimages.com/asr/baf97085-7231...   \n",
       "2873  kokie, cosmetics  https://i5.walmartimages.com/asr/31c99d9b-ea11...   \n",
       "3023       city, color  https://i5.walmartimages.com/asr/4425a13e-085f...   \n",
       "\n",
       "      Rating  \n",
       "3406     0.0  \n",
       "546      0.0  \n",
       "2406     3.7  \n",
       "4050     3.4  \n",
       "4084     0.0  \n",
       "1559     4.4  \n",
       "2873     3.4  \n",
       "3023     3.0  "
      ]
     },
     "execution_count": 68,
     "metadata": {},
     "output_type": "execute_result"
    }
   ],
   "source": [
    "# Example: Get content-based recommendations for a specific item\n",
    "item_name = 'Kokie Professional Matte Lipstick, Hot Berry, 0.14 fl oz'\n",
    "content_based_rec = content_based_recommendations(train_data, item_name, top_n=8)\n",
    "\n",
    "content_based_rec"
   ]
  },
  {
   "cell_type": "markdown",
   "id": "2c4117a0",
   "metadata": {},
   "source": [
    "# Collaborative Filtering (User Item Similarity)"
   ]
  },
  {
   "cell_type": "code",
   "execution_count": 70,
   "id": "561d1f39",
   "metadata": {},
   "outputs": [],
   "source": [
    "user_item_matrix = train_data.pivot_table(index='ID', columns='ProdID', values='Rating',aggfunc='mean').fillna(0).astype(int)"
   ]
  },
  {
   "cell_type": "code",
   "execution_count": 71,
   "id": "da389a20",
   "metadata": {},
   "outputs": [],
   "source": [
    "user_similarity = cosine_similarity(user_item_matrix)"
   ]
  },
  {
   "cell_type": "code",
   "execution_count": 72,
   "id": "ae4dcb37",
   "metadata": {},
   "outputs": [],
   "source": [
    "target_user_id = 4\n",
    "target_user_index = user_item_matrix.index.get_loc(target_user_id)"
   ]
  },
  {
   "cell_type": "code",
   "execution_count": 73,
   "id": "a50c696d",
   "metadata": {},
   "outputs": [],
   "source": [
    "user_similarities = user_similarity[target_user_index]\n",
    "\n",
    "similar_user_indices = user_similarities.argsort()[::-1][1:]"
   ]
  },
  {
   "cell_type": "code",
   "execution_count": 74,
   "id": "69deed31",
   "metadata": {},
   "outputs": [],
   "source": [
    "recommend_items = []\n",
    "\n",
    "for user_index in similar_user_indices:\n",
    "    rated_by_similar_user = user_item_matrix.iloc[user_index]\n",
    "    not_rated_by_target_user = (rated_by_similar_user==0) & (user_item_matrix.iloc[target_user_index]==0)\n",
    "    \n",
    "    recommend_items.extend(user_item_matrix.columns[not_rated_by_target_user][:10])\n",
    "\n",
    "recommended_items_details = train_data[train_data['ProdID'].isin(recommend_items)][['Name','ReviewCount','Brand','ImageURL','Rating']]"
   ]
  },
  {
   "cell_type": "code",
   "execution_count": 75,
   "id": "e3c54f65",
   "metadata": {},
   "outputs": [
    {
     "data": {
      "text/html": [
       "<div>\n",
       "<style scoped>\n",
       "    .dataframe tbody tr th:only-of-type {\n",
       "        vertical-align: middle;\n",
       "    }\n",
       "\n",
       "    .dataframe tbody tr th {\n",
       "        vertical-align: top;\n",
       "    }\n",
       "\n",
       "    .dataframe thead th {\n",
       "        text-align: right;\n",
       "    }\n",
       "</style>\n",
       "<table border=\"1\" class=\"dataframe\">\n",
       "  <thead>\n",
       "    <tr style=\"text-align: right;\">\n",
       "      <th></th>\n",
       "      <th>Name</th>\n",
       "      <th>ReviewCount</th>\n",
       "      <th>Brand</th>\n",
       "      <th>ImageURL</th>\n",
       "      <th>Rating</th>\n",
       "    </tr>\n",
       "  </thead>\n",
       "  <tbody>\n",
       "    <tr>\n",
       "      <th>15</th>\n",
       "      <td>Clairol Natural Instincts Demi-Permanent Hair ...</td>\n",
       "      <td>2935.0</td>\n",
       "      <td>clairol</td>\n",
       "      <td>https://i5.walmartimages.com/asr/00a6e54a-e431...</td>\n",
       "      <td>3.7</td>\n",
       "    </tr>\n",
       "    <tr>\n",
       "      <th>33</th>\n",
       "      <td>DenTek Kids Fun Flossers, Removes Food &amp; Plaqu...</td>\n",
       "      <td>3.0</td>\n",
       "      <td>dentek</td>\n",
       "      <td>https://i5.walmartimages.com/asr/de6e52eb-6e18...</td>\n",
       "      <td>0.0</td>\n",
       "    </tr>\n",
       "    <tr>\n",
       "      <th>61</th>\n",
       "      <td>COVERGIRL Exhibitionist Cream Lipstick, 395 Da...</td>\n",
       "      <td>713.0</td>\n",
       "      <td>covergirl</td>\n",
       "      <td>https://i5.walmartimages.com/asr/95076ec0-ffbd...</td>\n",
       "      <td>4.3</td>\n",
       "    </tr>\n",
       "    <tr>\n",
       "      <th>64</th>\n",
       "      <td>Neutrogena SkinClearing Oil-Free Liquid Founda...</td>\n",
       "      <td>741.0</td>\n",
       "      <td>neutrogena</td>\n",
       "      <td>https://i5.walmartimages.com/asr/fd4d78d8-310a...</td>\n",
       "      <td>4.2</td>\n",
       "    </tr>\n",
       "    <tr>\n",
       "      <th>69</th>\n",
       "      <td>Design Essentials Natural Coconut &amp; Monoi Curl...</td>\n",
       "      <td>1.0</td>\n",
       "      <td>design, essentials</td>\n",
       "      <td>https://i5.walmartimages.com/asr/ff2dba1d-0c02...</td>\n",
       "      <td>5.0</td>\n",
       "    </tr>\n",
       "    <tr>\n",
       "      <th>78</th>\n",
       "      <td>Paul Sebastian Fine Cologne Spray, Cologne for...</td>\n",
       "      <td>28.0</td>\n",
       "      <td>paul, sebastian</td>\n",
       "      <td>https://i5.walmartimages.com/asr/03d08a07-18d7...</td>\n",
       "      <td>4.8</td>\n",
       "    </tr>\n",
       "    <tr>\n",
       "      <th>85</th>\n",
       "      <td>BioAstin Hawaiian Astaxanthin, Vegan, 12mg, 75 Ct</td>\n",
       "      <td>3.0</td>\n",
       "      <td>bioastin</td>\n",
       "      <td>https://i5.walmartimages.com/asr/6da9e238-b19e...</td>\n",
       "      <td>5.0</td>\n",
       "    </tr>\n",
       "    <tr>\n",
       "      <th>92</th>\n",
       "      <td>Bytewise Organic Moringa Leaf Powder, 12 Oz</td>\n",
       "      <td>0.0</td>\n",
       "      <td>bytewise</td>\n",
       "      <td>https://i5.walmartimages.com/asr/076f2b3f-fdc3...</td>\n",
       "      <td>0.0</td>\n",
       "    </tr>\n",
       "    <tr>\n",
       "      <th>94</th>\n",
       "      <td>Ag Hair Cosmetics Ultradynamics Extra-Firm Fin...</td>\n",
       "      <td>0.0</td>\n",
       "      <td>ag, hair</td>\n",
       "      <td>https://i5.walmartimages.com/asr/5d217d98-a385...</td>\n",
       "      <td>0.0</td>\n",
       "    </tr>\n",
       "    <tr>\n",
       "      <th>108</th>\n",
       "      <td>OPI Nail Dipping Powder Perfection Combo - Liq...</td>\n",
       "      <td>1.0</td>\n",
       "      <td>opi</td>\n",
       "      <td>https://i5.walmartimages.com/asr/ef1607ee-5bdb...</td>\n",
       "      <td>3.0</td>\n",
       "    </tr>\n",
       "  </tbody>\n",
       "</table>\n",
       "</div>"
      ],
      "text/plain": [
       "                                                  Name  ReviewCount  \\\n",
       "15   Clairol Natural Instincts Demi-Permanent Hair ...       2935.0   \n",
       "33   DenTek Kids Fun Flossers, Removes Food & Plaqu...          3.0   \n",
       "61   COVERGIRL Exhibitionist Cream Lipstick, 395 Da...        713.0   \n",
       "64   Neutrogena SkinClearing Oil-Free Liquid Founda...        741.0   \n",
       "69   Design Essentials Natural Coconut & Monoi Curl...          1.0   \n",
       "78   Paul Sebastian Fine Cologne Spray, Cologne for...         28.0   \n",
       "85   BioAstin Hawaiian Astaxanthin, Vegan, 12mg, 75 Ct          3.0   \n",
       "92         Bytewise Organic Moringa Leaf Powder, 12 Oz          0.0   \n",
       "94   Ag Hair Cosmetics Ultradynamics Extra-Firm Fin...          0.0   \n",
       "108  OPI Nail Dipping Powder Perfection Combo - Liq...          1.0   \n",
       "\n",
       "                  Brand                                           ImageURL  \\\n",
       "15              clairol  https://i5.walmartimages.com/asr/00a6e54a-e431...   \n",
       "33               dentek  https://i5.walmartimages.com/asr/de6e52eb-6e18...   \n",
       "61            covergirl  https://i5.walmartimages.com/asr/95076ec0-ffbd...   \n",
       "64           neutrogena  https://i5.walmartimages.com/asr/fd4d78d8-310a...   \n",
       "69   design, essentials  https://i5.walmartimages.com/asr/ff2dba1d-0c02...   \n",
       "78      paul, sebastian  https://i5.walmartimages.com/asr/03d08a07-18d7...   \n",
       "85             bioastin  https://i5.walmartimages.com/asr/6da9e238-b19e...   \n",
       "92             bytewise  https://i5.walmartimages.com/asr/076f2b3f-fdc3...   \n",
       "94             ag, hair  https://i5.walmartimages.com/asr/5d217d98-a385...   \n",
       "108                 opi  https://i5.walmartimages.com/asr/ef1607ee-5bdb...   \n",
       "\n",
       "     Rating  \n",
       "15      3.7  \n",
       "33      0.0  \n",
       "61      4.3  \n",
       "64      4.2  \n",
       "69      5.0  \n",
       "78      4.8  \n",
       "85      5.0  \n",
       "92      0.0  \n",
       "94      0.0  \n",
       "108     3.0  "
      ]
     },
     "execution_count": 75,
     "metadata": {},
     "output_type": "execute_result"
    }
   ],
   "source": [
    "recommended_items_details.head(10)"
   ]
  },
  {
   "cell_type": "markdown",
   "id": "b315744a",
   "metadata": {},
   "source": [
    "# Function That Recommend Items"
   ]
  },
  {
   "cell_type": "code",
   "execution_count": 77,
   "id": "9867d4e0",
   "metadata": {},
   "outputs": [
    {
     "name": "stdout",
     "output_type": "stream",
     "text": [
      "Top 5 recommendations for User 4:\n"
     ]
    },
    {
     "data": {
      "text/html": [
       "<div>\n",
       "<style scoped>\n",
       "    .dataframe tbody tr th:only-of-type {\n",
       "        vertical-align: middle;\n",
       "    }\n",
       "\n",
       "    .dataframe tbody tr th {\n",
       "        vertical-align: top;\n",
       "    }\n",
       "\n",
       "    .dataframe thead th {\n",
       "        text-align: right;\n",
       "    }\n",
       "</style>\n",
       "<table border=\"1\" class=\"dataframe\">\n",
       "  <thead>\n",
       "    <tr style=\"text-align: right;\">\n",
       "      <th></th>\n",
       "      <th>Name</th>\n",
       "      <th>ReviewCount</th>\n",
       "      <th>Brand</th>\n",
       "      <th>ImageURL</th>\n",
       "      <th>Rating</th>\n",
       "    </tr>\n",
       "  </thead>\n",
       "  <tbody>\n",
       "    <tr>\n",
       "      <th>61</th>\n",
       "      <td>COVERGIRL Exhibitionist Cream Lipstick, 395 Da...</td>\n",
       "      <td>713.0</td>\n",
       "      <td>covergirl</td>\n",
       "      <td>https://i5.walmartimages.com/asr/95076ec0-ffbd...</td>\n",
       "      <td>4.3</td>\n",
       "    </tr>\n",
       "    <tr>\n",
       "      <th>85</th>\n",
       "      <td>BioAstin Hawaiian Astaxanthin, Vegan, 12mg, 75 Ct</td>\n",
       "      <td>3.0</td>\n",
       "      <td>bioastin</td>\n",
       "      <td>https://i5.walmartimages.com/asr/6da9e238-b19e...</td>\n",
       "      <td>5.0</td>\n",
       "    </tr>\n",
       "    <tr>\n",
       "      <th>86</th>\n",
       "      <td>LOreal Paris Feria Multi-Faceted Shimmering Pe...</td>\n",
       "      <td>2144.0</td>\n",
       "      <td>paris</td>\n",
       "      <td>https://i5.walmartimages.com/asr/c229026a-2b75...</td>\n",
       "      <td>3.1</td>\n",
       "    </tr>\n",
       "    <tr>\n",
       "      <th>108</th>\n",
       "      <td>OPI Nail Dipping Powder Perfection Combo - Liq...</td>\n",
       "      <td>1.0</td>\n",
       "      <td>opi</td>\n",
       "      <td>https://i5.walmartimages.com/asr/ef1607ee-5bdb...</td>\n",
       "      <td>3.0</td>\n",
       "    </tr>\n",
       "    <tr>\n",
       "      <th>144</th>\n",
       "      <td>Covidien Curity Maternity Pad Heavy 4.33&amp;quot ...</td>\n",
       "      <td>0.0</td>\n",
       "      <td>covidien</td>\n",
       "      <td>https://i5.walmartimages.com/asr/e4e38217-ed43...</td>\n",
       "      <td>0.0</td>\n",
       "    </tr>\n",
       "    <tr>\n",
       "      <th>155</th>\n",
       "      <td>Crest 3D White Brilliance Mouthwash, Alcohol F...</td>\n",
       "      <td>63.0</td>\n",
       "      <td>crest</td>\n",
       "      <td>https://i5.walmartimages.com/asr/1fcc5525-9ae3...</td>\n",
       "      <td>0.0</td>\n",
       "    </tr>\n",
       "    <tr>\n",
       "      <th>174</th>\n",
       "      <td>COVERGIRL Outlast All-Day Moisturizing Lip Col...</td>\n",
       "      <td>36.0</td>\n",
       "      <td>covergirl</td>\n",
       "      <td>https://i5.walmartimages.com/asr/4479896f-c6c4...</td>\n",
       "      <td>0.0</td>\n",
       "    </tr>\n",
       "    <tr>\n",
       "      <th>193</th>\n",
       "      <td>Revlon ColorStay Skinny Liquid Liner, 304 Gree...</td>\n",
       "      <td>70.0</td>\n",
       "      <td>revlon</td>\n",
       "      <td>https://i5.walmartimages.com/asr/aa3b20a6-3d6d...</td>\n",
       "      <td>4.5</td>\n",
       "    </tr>\n",
       "    <tr>\n",
       "      <th>212</th>\n",
       "      <td>Comvita Certified UMF 20+ Manuka Honey, Raw &amp; ...</td>\n",
       "      <td>0.0</td>\n",
       "      <td>comvita</td>\n",
       "      <td>https://i5.walmartimages.com/asr/3cdc1498-a2ac...</td>\n",
       "      <td>0.0</td>\n",
       "    </tr>\n",
       "    <tr>\n",
       "      <th>241</th>\n",
       "      <td>Ahava Mens Mineral Hand Cream, 3.4 Oz</td>\n",
       "      <td>0.0</td>\n",
       "      <td>ahava</td>\n",
       "      <td>https://i5.walmartimages.com/asr/f74e4bb7-47d3...</td>\n",
       "      <td>0.0</td>\n",
       "    </tr>\n",
       "  </tbody>\n",
       "</table>\n",
       "</div>"
      ],
      "text/plain": [
       "                                                  Name  ReviewCount  \\\n",
       "61   COVERGIRL Exhibitionist Cream Lipstick, 395 Da...        713.0   \n",
       "85   BioAstin Hawaiian Astaxanthin, Vegan, 12mg, 75 Ct          3.0   \n",
       "86   LOreal Paris Feria Multi-Faceted Shimmering Pe...       2144.0   \n",
       "108  OPI Nail Dipping Powder Perfection Combo - Liq...          1.0   \n",
       "144  Covidien Curity Maternity Pad Heavy 4.33&quot ...          0.0   \n",
       "155  Crest 3D White Brilliance Mouthwash, Alcohol F...         63.0   \n",
       "174  COVERGIRL Outlast All-Day Moisturizing Lip Col...         36.0   \n",
       "193  Revlon ColorStay Skinny Liquid Liner, 304 Gree...         70.0   \n",
       "212  Comvita Certified UMF 20+ Manuka Honey, Raw & ...          0.0   \n",
       "241              Ahava Mens Mineral Hand Cream, 3.4 Oz          0.0   \n",
       "\n",
       "         Brand                                           ImageURL  Rating  \n",
       "61   covergirl  https://i5.walmartimages.com/asr/95076ec0-ffbd...     4.3  \n",
       "85    bioastin  https://i5.walmartimages.com/asr/6da9e238-b19e...     5.0  \n",
       "86       paris  https://i5.walmartimages.com/asr/c229026a-2b75...     3.1  \n",
       "108        opi  https://i5.walmartimages.com/asr/ef1607ee-5bdb...     3.0  \n",
       "144   covidien  https://i5.walmartimages.com/asr/e4e38217-ed43...     0.0  \n",
       "155      crest  https://i5.walmartimages.com/asr/1fcc5525-9ae3...     0.0  \n",
       "174  covergirl  https://i5.walmartimages.com/asr/4479896f-c6c4...     0.0  \n",
       "193     revlon  https://i5.walmartimages.com/asr/aa3b20a6-3d6d...     4.5  \n",
       "212    comvita  https://i5.walmartimages.com/asr/3cdc1498-a2ac...     0.0  \n",
       "241      ahava  https://i5.walmartimages.com/asr/f74e4bb7-47d3...     0.0  "
      ]
     },
     "execution_count": 77,
     "metadata": {},
     "output_type": "execute_result"
    }
   ],
   "source": [
    "def collaborative_filtering_recommendations(train_data, target_user_id, top_n=10):\n",
    "    # Create the user-item matrix\n",
    "    user_item_matrix = train_data.pivot_table(index='ID', columns='ProdID', values='Rating', aggfunc='mean').fillna(0)\n",
    "\n",
    "    # Calculate the user similarity matrix using cosine similarity\n",
    "    user_similarity = cosine_similarity(user_item_matrix)\n",
    "\n",
    "    # Find the index of the target user in the matrix\n",
    "    target_user_index = user_item_matrix.index.get_loc(target_user_id)\n",
    "\n",
    "    # Get the similarity scores for the target user\n",
    "    user_similarities = user_similarity[target_user_index]\n",
    "\n",
    "    # Sort the users by similarity in descending order (excluding the target user)\n",
    "    similar_users_indices = user_similarities.argsort()[::-1][1:]\n",
    "\n",
    "    # Generate recommendations based on similar users\n",
    "    recommended_items = []\n",
    "\n",
    "    for user_index in similar_users_indices:\n",
    "        # Get items rated by the similar user but not by the target user\n",
    "        rated_by_similar_user = user_item_matrix.iloc[user_index]\n",
    "        not_rated_by_target_user = (rated_by_similar_user == 0) & (user_item_matrix.iloc[target_user_index] == 0)\n",
    "\n",
    "        # Extract the item IDs of recommended items\n",
    "        recommended_items.extend(user_item_matrix.columns[not_rated_by_target_user][:top_n])\n",
    "\n",
    "    # Get the details of recommended items\n",
    "    recommended_items_details = train_data[train_data['ProdID'].isin(recommended_items)][['Name', 'ReviewCount', 'Brand', 'ImageURL', 'Rating']]\n",
    "\n",
    "    return recommended_items_details.head(10)\n",
    "\n",
    "# Example usage\n",
    "target_user_id = 4\n",
    "top_n = 5\n",
    "collaborative_filtering_rec = collaborative_filtering_recommendations(train_data, target_user_id)\n",
    "print(f\"Top {top_n} recommendations for User {target_user_id}:\")\n",
    "collaborative_filtering_rec"
   ]
  },
  {
   "cell_type": "markdown",
   "id": "2839d618",
   "metadata": {},
   "source": [
    "# Hybrid Recommendations"
   ]
  },
  {
   "cell_type": "code",
   "execution_count": 79,
   "id": "77dadbb3",
   "metadata": {},
   "outputs": [],
   "source": [
    "# Hybrid Recommendations (Combine Content-Based and Collaborative Filtering)\n",
    "def hybrid_recommendations(train_data, target_user_id, item_name, top_n=10):\n",
    "    # Get content-based recommendations\n",
    "    content_based_rec = content_based_recommendations(train_data,item_name, top_n)\n",
    "\n",
    "    # Get collaborative filtering recommendations\n",
    "    collaborative_filtering_rec = collaborative_filtering_recommendations(train_data,target_user_id, top_n)\n",
    "    \n",
    "    # Merge and deduplicate the recommendations\n",
    "    hybrid_rec = pd.concat([content_based_rec, collaborative_filtering_rec]).drop_duplicates()\n",
    "    \n",
    "    return hybrid_rec.head(10)"
   ]
  },
  {
   "cell_type": "markdown",
   "id": "d748ad26-f024-452a-92ea-a4bef1f91f60",
   "metadata": {},
   "source": [
    "#### Example usage: Get hybrid recommendations for a specific user and item\n",
    "target_user_id = 4 # Change this to the user_id you want recommendations for\n",
    "item_name = \"OPI Nail Lacquer Polish .5oz/15mL - This Gown Needs A Crown NL U11\"  # Change this to the item name\n",
    "hybrid_rec = hybrid_recommendations(train_data,target_user_id, item_name, top_n=10)\n",
    "\n",
    "print(f\"Top 10 Hybrid Recommendations for User {target_user_id} and Item '{item_name}':\")\n",
    "hybrid_rec"
   ]
  },
  {
   "cell_type": "code",
   "execution_count": 81,
   "id": "c56891bd",
   "metadata": {},
   "outputs": [
    {
     "name": "stdout",
     "output_type": "stream",
     "text": [
      "Top 10 Hybrid Recommendations for User 10 and Item 'Black Radiance Perfect Tone Matte Lip Crème, Succulent Plum':\n"
     ]
    },
    {
     "data": {
      "text/html": [
       "<div>\n",
       "<style scoped>\n",
       "    .dataframe tbody tr th:only-of-type {\n",
       "        vertical-align: middle;\n",
       "    }\n",
       "\n",
       "    .dataframe tbody tr th {\n",
       "        vertical-align: top;\n",
       "    }\n",
       "\n",
       "    .dataframe thead th {\n",
       "        text-align: right;\n",
       "    }\n",
       "</style>\n",
       "<table border=\"1\" class=\"dataframe\">\n",
       "  <thead>\n",
       "    <tr style=\"text-align: right;\">\n",
       "      <th></th>\n",
       "      <th>Name</th>\n",
       "      <th>ReviewCount</th>\n",
       "      <th>Brand</th>\n",
       "      <th>ImageURL</th>\n",
       "      <th>Rating</th>\n",
       "    </tr>\n",
       "  </thead>\n",
       "  <tbody>\n",
       "    <tr>\n",
       "      <th>896</th>\n",
       "      <td>Black Radiance Perfect Tone Lip Color, Vintage...</td>\n",
       "      <td>78.0</td>\n",
       "      <td>black, radiance</td>\n",
       "      <td>https://i5.walmartimages.com/asr/485f26b4-a19a...</td>\n",
       "      <td>4.7</td>\n",
       "    </tr>\n",
       "    <tr>\n",
       "      <th>2496</th>\n",
       "      <td>Black Radiance Perfect Tone Lip Color, Hollywo...</td>\n",
       "      <td>18.0</td>\n",
       "      <td>black, radiance</td>\n",
       "      <td>https://i5.walmartimages.com/asr/fe3da48f-5142...</td>\n",
       "      <td>4.3</td>\n",
       "    </tr>\n",
       "    <tr>\n",
       "      <th>3</th>\n",
       "      <td>Kokie Professional Matte Lipstick, Hot Berry, ...</td>\n",
       "      <td>0.0</td>\n",
       "      <td>kokie, cosmetics</td>\n",
       "      <td>https://i5.walmartimages.com/asr/25b4b467-bc61...</td>\n",
       "      <td>0.0</td>\n",
       "    </tr>\n",
       "    <tr>\n",
       "      <th>3406</th>\n",
       "      <td>Kokie Professional Matte Lipstick, Firecracker...</td>\n",
       "      <td>0.0</td>\n",
       "      <td>kokie, cosmetics</td>\n",
       "      <td>https://i5.walmartimages.com/asr/8312221b-ed22...</td>\n",
       "      <td>0.0</td>\n",
       "    </tr>\n",
       "    <tr>\n",
       "      <th>2406</th>\n",
       "      <td>L.A. Colors Matte Lipstick, Tender Matte</td>\n",
       "      <td>3.0</td>\n",
       "      <td>colors</td>\n",
       "      <td>https://i5.walmartimages.com/asr/271264fb-e8c3...</td>\n",
       "      <td>3.7</td>\n",
       "    </tr>\n",
       "    <tr>\n",
       "      <th>4050</th>\n",
       "      <td>Kokie Professional Lip Poudre Liquid Matte Liq...</td>\n",
       "      <td>7.0</td>\n",
       "      <td>kokie, cosmetics</td>\n",
       "      <td>https://i5.walmartimages.com/asr/fdd7498c-319f...</td>\n",
       "      <td>3.4</td>\n",
       "    </tr>\n",
       "    <tr>\n",
       "      <th>2873</th>\n",
       "      <td>Kokie Professional Lip Poudre Liquid Matte Liq...</td>\n",
       "      <td>7.0</td>\n",
       "      <td>kokie, cosmetics</td>\n",
       "      <td>https://i5.walmartimages.com/asr/31c99d9b-ea11...</td>\n",
       "      <td>3.4</td>\n",
       "    </tr>\n",
       "    <tr>\n",
       "      <th>4872</th>\n",
       "      <td>L.A. Colors Matte Lipstick, Torrid Matte</td>\n",
       "      <td>8.0</td>\n",
       "      <td>colors</td>\n",
       "      <td>https://i5.walmartimages.com/asr/62d6d9fa-eee1...</td>\n",
       "      <td>4.8</td>\n",
       "    </tr>\n",
       "    <tr>\n",
       "      <th>1300</th>\n",
       "      <td>e.l.f. Liquid Matte Lipstick, Tea Rose</td>\n",
       "      <td>476.0</td>\n",
       "      <td>cosmetics</td>\n",
       "      <td>https://i5.walmartimages.com/asr/58220de4-3875...</td>\n",
       "      <td>4.1</td>\n",
       "    </tr>\n",
       "    <tr>\n",
       "      <th>420</th>\n",
       "      <td>Black Opal Color Splurge Sassy Luxe Matte Lips...</td>\n",
       "      <td>0.0</td>\n",
       "      <td>black, opal</td>\n",
       "      <td>https://i5.walmartimages.com/asr/a991241b-e4ad...</td>\n",
       "      <td>0.0</td>\n",
       "    </tr>\n",
       "  </tbody>\n",
       "</table>\n",
       "</div>"
      ],
      "text/plain": [
       "                                                   Name  ReviewCount  \\\n",
       "896   Black Radiance Perfect Tone Lip Color, Vintage...         78.0   \n",
       "2496  Black Radiance Perfect Tone Lip Color, Hollywo...         18.0   \n",
       "3     Kokie Professional Matte Lipstick, Hot Berry, ...          0.0   \n",
       "3406  Kokie Professional Matte Lipstick, Firecracker...          0.0   \n",
       "2406           L.A. Colors Matte Lipstick, Tender Matte          3.0   \n",
       "4050  Kokie Professional Lip Poudre Liquid Matte Liq...          7.0   \n",
       "2873  Kokie Professional Lip Poudre Liquid Matte Liq...          7.0   \n",
       "4872           L.A. Colors Matte Lipstick, Torrid Matte          8.0   \n",
       "1300             e.l.f. Liquid Matte Lipstick, Tea Rose        476.0   \n",
       "420   Black Opal Color Splurge Sassy Luxe Matte Lips...          0.0   \n",
       "\n",
       "                 Brand                                           ImageURL  \\\n",
       "896    black, radiance  https://i5.walmartimages.com/asr/485f26b4-a19a...   \n",
       "2496   black, radiance  https://i5.walmartimages.com/asr/fe3da48f-5142...   \n",
       "3     kokie, cosmetics  https://i5.walmartimages.com/asr/25b4b467-bc61...   \n",
       "3406  kokie, cosmetics  https://i5.walmartimages.com/asr/8312221b-ed22...   \n",
       "2406            colors  https://i5.walmartimages.com/asr/271264fb-e8c3...   \n",
       "4050  kokie, cosmetics  https://i5.walmartimages.com/asr/fdd7498c-319f...   \n",
       "2873  kokie, cosmetics  https://i5.walmartimages.com/asr/31c99d9b-ea11...   \n",
       "4872            colors  https://i5.walmartimages.com/asr/62d6d9fa-eee1...   \n",
       "1300         cosmetics  https://i5.walmartimages.com/asr/58220de4-3875...   \n",
       "420        black, opal  https://i5.walmartimages.com/asr/a991241b-e4ad...   \n",
       "\n",
       "      Rating  \n",
       "896      4.7  \n",
       "2496     4.3  \n",
       "3        0.0  \n",
       "3406     0.0  \n",
       "2406     3.7  \n",
       "4050     3.4  \n",
       "2873     3.4  \n",
       "4872     4.8  \n",
       "1300     4.1  \n",
       "420      0.0  "
      ]
     },
     "execution_count": 81,
     "metadata": {},
     "output_type": "execute_result"
    }
   ],
   "source": [
    "# Example usage: Get hybrid recommendations for a specific user and item\n",
    "target_user_id = 10 # Change this to the user_id you want recommendations for\n",
    "item_name = 'Black Radiance Perfect Tone Matte Lip Crème, Succulent Plum'\n",
    "\n",
    "hybrid_rec = hybrid_recommendations(train_data,target_user_id, item_name, top_n=10)\n",
    "\n",
    "print(f\"Top 10 Hybrid Recommendations for User {target_user_id} and Item '{item_name}':\")\n",
    "hybrid_rec"
   ]
  },
  {
   "cell_type": "code",
   "execution_count": 125,
   "id": "0f9cc1b6",
   "metadata": {},
   "outputs": [],
   "source": [
    "import pickle"
   ]
  },
  {
   "cell_type": "code",
   "execution_count": 127,
   "id": "118063f0",
   "metadata": {},
   "outputs": [],
   "source": [
    "import pickle\n",
    "\n",
    "# Save user-item interaction matrix\n",
    "with open('user_item_matrix.pkl', 'wb') as f:\n",
    "    pickle.dump(user_item_matrix, f)\n",
    "\n",
    "# Save user similarity matrix\n",
    "with open('user_similarity.pkl', 'wb') as f:\n",
    "    pickle.dump(user_similarity, f)\n",
    "\n",
    "# Save item similarity matrix\n",
    "with open('item_similarity.pkl', 'wb') as f:\n",
    "    pickle.dump(cosine_similarities_content, f)\n",
    "\n",
    "# Save vectorizer\n",
    "with open('vectorizer.pkl', 'wb') as f:\n",
    "    pickle.dump(tfidf_vectorizer, f)\n"
   ]
  },
  {
   "cell_type": "code",
   "execution_count": 139,
   "id": "77186d2a-0b4d-4bc8-b948-b88e793df711",
   "metadata": {},
   "outputs": [],
   "source": [
    "import pickle\n",
    "\n",
    "# Load user-item interaction matrix\n",
    "with open('user_item_matrix.pkl', 'rb') as f:\n",
    "    user_item_matrix = pickle.load(f)\n",
    "\n",
    "# Load user similarity matrix\n",
    "with open('user_similarity.pkl', 'rb') as f:\n",
    "    user_similarity = pickle.load(f)\n",
    "\n",
    "# Load item similarity matrix\n",
    "with open('item_similarity.pkl', 'rb') as f:\n",
    "    item_similarity = pickle.load(f)\n",
    "\n",
    "# Load vectorizer\n",
    "with open('vectorizer.pkl', 'rb') as f:\n",
    "    tfidf_vectorizer = pickle.load(f)\n"
   ]
  },
  {
   "cell_type": "code",
   "execution_count": 191,
   "id": "0c34f5fe-159f-49be-bb7a-d29b33558187",
   "metadata": {},
   "outputs": [],
   "source": []
  },
  {
   "cell_type": "code",
   "execution_count": 193,
   "id": "3d6c4f37-70b0-4317-a5e9-76ee9143393f",
   "metadata": {},
   "outputs": [
    {
     "ename": "KeyError",
     "evalue": "'Black Radiance Perfect Tone Matte Lip Crème, Succulent Plum'",
     "output_type": "error",
     "traceback": [
      "\u001b[1;31m---------------------------------------------------------------------------\u001b[0m",
      "\u001b[1;31mKeyError\u001b[0m                                  Traceback (most recent call last)",
      "File \u001b[1;32mE:\\Program\\Anaconda\\Lib\\site-packages\\pandas\\core\\indexes\\base.py:3805\u001b[0m, in \u001b[0;36mIndex.get_loc\u001b[1;34m(self, key)\u001b[0m\n\u001b[0;32m   3804\u001b[0m \u001b[38;5;28;01mtry\u001b[39;00m:\n\u001b[1;32m-> 3805\u001b[0m     \u001b[38;5;28;01mreturn\u001b[39;00m \u001b[38;5;28mself\u001b[39m\u001b[38;5;241m.\u001b[39m_engine\u001b[38;5;241m.\u001b[39mget_loc(casted_key)\n\u001b[0;32m   3806\u001b[0m \u001b[38;5;28;01mexcept\u001b[39;00m \u001b[38;5;167;01mKeyError\u001b[39;00m \u001b[38;5;28;01mas\u001b[39;00m err:\n",
      "File \u001b[1;32mindex.pyx:167\u001b[0m, in \u001b[0;36mpandas._libs.index.IndexEngine.get_loc\u001b[1;34m()\u001b[0m\n",
      "File \u001b[1;32mindex.pyx:175\u001b[0m, in \u001b[0;36mpandas._libs.index.IndexEngine.get_loc\u001b[1;34m()\u001b[0m\n",
      "File \u001b[1;32mpandas\\\\_libs\\\\index_class_helper.pxi:19\u001b[0m, in \u001b[0;36mpandas._libs.index.Float64Engine._check_type\u001b[1;34m()\u001b[0m\n",
      "\u001b[1;31mKeyError\u001b[0m: 'Black Radiance Perfect Tone Matte Lip Crème, Succulent Plum'",
      "\nThe above exception was the direct cause of the following exception:\n",
      "\u001b[1;31mKeyError\u001b[0m                                  Traceback (most recent call last)",
      "Cell \u001b[1;32mIn[193], line 11\u001b[0m\n\u001b[0;32m      3\u001b[0m item_name \u001b[38;5;241m=\u001b[39m \u001b[38;5;124m'\u001b[39m\u001b[38;5;124mBlack Radiance Perfect Tone Matte Lip Crème, Succulent Plum\u001b[39m\u001b[38;5;124m'\u001b[39m\n\u001b[0;32m      5\u001b[0m \u001b[38;5;66;03m# Assuming user_item_matrix, user_similarity, and item_similarity are numpy arrays loaded from memory\u001b[39;00m\n\u001b[0;32m      6\u001b[0m \u001b[38;5;66;03m# user_item_matrix = ...\u001b[39;00m\n\u001b[0;32m      7\u001b[0m \u001b[38;5;66;03m# user_similarity = ...\u001b[39;00m\n\u001b[0;32m      8\u001b[0m \u001b[38;5;66;03m# item_similarity = ...\u001b[39;00m\n\u001b[0;32m      9\u001b[0m \n\u001b[0;32m     10\u001b[0m \u001b[38;5;66;03m# Generate recommendations\u001b[39;00m\n\u001b[1;32m---> 11\u001b[0m hybrid_rec \u001b[38;5;241m=\u001b[39m hybrid_recommendations(user_item_matrix, user_similarity, item_similarity, target_user_id, item_name, top_n\u001b[38;5;241m=\u001b[39m\u001b[38;5;241m10\u001b[39m)\n\u001b[0;32m     13\u001b[0m \u001b[38;5;28mprint\u001b[39m(\u001b[38;5;124mf\u001b[39m\u001b[38;5;124m\"\u001b[39m\u001b[38;5;124mTop 10 Hybrid Recommendations for User \u001b[39m\u001b[38;5;132;01m{\u001b[39;00mtarget_user_id\u001b[38;5;132;01m}\u001b[39;00m\u001b[38;5;124m and Item \u001b[39m\u001b[38;5;124m'\u001b[39m\u001b[38;5;132;01m{\u001b[39;00mitem_name\u001b[38;5;132;01m}\u001b[39;00m\u001b[38;5;124m'\u001b[39m\u001b[38;5;124m:\u001b[39m\u001b[38;5;124m\"\u001b[39m)\n\u001b[0;32m     14\u001b[0m \u001b[38;5;28mprint\u001b[39m(hybrid_rec)\n",
      "Cell \u001b[1;32mIn[191], line 14\u001b[0m, in \u001b[0;36mhybrid_recommendations\u001b[1;34m(user_item_matrix, user_similarity, item_similarity, user_id, item_name, top_n)\u001b[0m\n\u001b[0;32m     11\u001b[0m collaborative_recommendations \u001b[38;5;241m=\u001b[39m user_item_matrix\u001b[38;5;241m.\u001b[39miloc[similar_users]\u001b[38;5;241m.\u001b[39mmean()\u001b[38;5;241m.\u001b[39msort_values(ascending\u001b[38;5;241m=\u001b[39m\u001b[38;5;28;01mFalse\u001b[39;00m)\n\u001b[0;32m     13\u001b[0m \u001b[38;5;66;03m# Content-based filtering part\u001b[39;00m\n\u001b[1;32m---> 14\u001b[0m content_similarity \u001b[38;5;241m=\u001b[39m item_similarity[:, user_item_matrix\u001b[38;5;241m.\u001b[39mcolumns\u001b[38;5;241m.\u001b[39mget_loc(item_name)]  \u001b[38;5;66;03m# Get similarity scores for the item\u001b[39;00m\n\u001b[0;32m     15\u001b[0m content_recommendations \u001b[38;5;241m=\u001b[39m np\u001b[38;5;241m.\u001b[39margsort(content_similarity)[::\u001b[38;5;241m-\u001b[39m\u001b[38;5;241m1\u001b[39m][\u001b[38;5;241m1\u001b[39m:\u001b[38;5;241m11\u001b[39m]  \u001b[38;5;66;03m# Get indices of most similar items\u001b[39;00m\n\u001b[0;32m     16\u001b[0m content_recommendations \u001b[38;5;241m=\u001b[39m user_item_matrix\u001b[38;5;241m.\u001b[39mcolumns[content_recommendations]  \u001b[38;5;66;03m# Get item names\u001b[39;00m\n",
      "File \u001b[1;32mE:\\Program\\Anaconda\\Lib\\site-packages\\pandas\\core\\indexes\\base.py:3812\u001b[0m, in \u001b[0;36mIndex.get_loc\u001b[1;34m(self, key)\u001b[0m\n\u001b[0;32m   3807\u001b[0m     \u001b[38;5;28;01mif\u001b[39;00m \u001b[38;5;28misinstance\u001b[39m(casted_key, \u001b[38;5;28mslice\u001b[39m) \u001b[38;5;129;01mor\u001b[39;00m (\n\u001b[0;32m   3808\u001b[0m         \u001b[38;5;28misinstance\u001b[39m(casted_key, abc\u001b[38;5;241m.\u001b[39mIterable)\n\u001b[0;32m   3809\u001b[0m         \u001b[38;5;129;01mand\u001b[39;00m \u001b[38;5;28many\u001b[39m(\u001b[38;5;28misinstance\u001b[39m(x, \u001b[38;5;28mslice\u001b[39m) \u001b[38;5;28;01mfor\u001b[39;00m x \u001b[38;5;129;01min\u001b[39;00m casted_key)\n\u001b[0;32m   3810\u001b[0m     ):\n\u001b[0;32m   3811\u001b[0m         \u001b[38;5;28;01mraise\u001b[39;00m InvalidIndexError(key)\n\u001b[1;32m-> 3812\u001b[0m     \u001b[38;5;28;01mraise\u001b[39;00m \u001b[38;5;167;01mKeyError\u001b[39;00m(key) \u001b[38;5;28;01mfrom\u001b[39;00m \u001b[38;5;21;01merr\u001b[39;00m\n\u001b[0;32m   3813\u001b[0m \u001b[38;5;28;01mexcept\u001b[39;00m \u001b[38;5;167;01mTypeError\u001b[39;00m:\n\u001b[0;32m   3814\u001b[0m     \u001b[38;5;66;03m# If we have a listlike key, _check_indexing_error will raise\u001b[39;00m\n\u001b[0;32m   3815\u001b[0m     \u001b[38;5;66;03m#  InvalidIndexError. Otherwise we fall through and re-raise\u001b[39;00m\n\u001b[0;32m   3816\u001b[0m     \u001b[38;5;66;03m#  the TypeError.\u001b[39;00m\n\u001b[0;32m   3817\u001b[0m     \u001b[38;5;28mself\u001b[39m\u001b[38;5;241m.\u001b[39m_check_indexing_error(key)\n",
      "\u001b[1;31mKeyError\u001b[0m: 'Black Radiance Perfect Tone Matte Lip Crème, Succulent Plum'"
     ]
    }
   ],
   "source": [
    "# Example usage:\n",
    "target_user_id = 10  # Change this to the user_id you want recommendations for\n",
    "item_name = 'Black Radiance Perfect Tone Matte Lip Crème, Succulent Plum'\n",
    "\n",
    "# Assuming user_item_matrix, user_similarity, and item_similarity are numpy arrays loaded from memory\n",
    "# user_item_matrix = ...\n",
    "# user_similarity = ...\n",
    "# item_similarity = ...\n",
    "\n",
    "# Generate recommendations\n",
    "hybrid_rec = hybrid_recommendations(user_item_matrix, user_similarity, item_similarity, target_user_id, item_name, top_n=10)\n",
    "\n",
    "print(f\"Top 10 Hybrid Recommendations for User {target_user_id} and Item '{item_name}':\")\n",
    "print(hybrid_rec)"
   ]
  }
 ],
 "metadata": {
  "kernelspec": {
   "display_name": "Python 3 (ipykernel)",
   "language": "python",
   "name": "python3"
  },
  "language_info": {
   "codemirror_mode": {
    "name": "ipython",
    "version": 3
   },
   "file_extension": ".py",
   "mimetype": "text/x-python",
   "name": "python",
   "nbconvert_exporter": "python",
   "pygments_lexer": "ipython3",
   "version": "3.12.3"
  }
 },
 "nbformat": 4,
 "nbformat_minor": 5
}
